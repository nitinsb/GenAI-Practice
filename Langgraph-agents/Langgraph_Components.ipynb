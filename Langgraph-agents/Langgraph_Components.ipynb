{
 "cells": [
  {
   "cell_type": "code",
   "execution_count": 4,
   "id": "f5762271-8736-4e94-9444-8c92bd0e8074",
   "metadata": {
    "height": 47
   },
   "outputs": [],
   "source": [
    "from dotenv import load_dotenv\n",
    "_ = load_dotenv()"
   ]
  },
  {
   "cell_type": "code",
   "execution_count": 5,
   "id": "d0168aee-bce9-4d60-b827-f86a88187e31",
   "metadata": {
    "height": 115
   },
   "outputs": [],
   "source": [
    "from langgraph.graph import StateGraph, END\n",
    "from typing import TypedDict, Annotated\n",
    "import operator\n",
    "from langchain_core.messages import AnyMessage, SystemMessage, HumanMessage, ToolMessage\n",
    "from langchain_openai import ChatOpenAI\n",
    "from langchain_community.tools.tavily_search import TavilySearchResults"
   ]
  },
  {
   "cell_type": "code",
   "execution_count": 6,
   "id": "2589c5b6-6cc2-4594-9a17-dccdcf676054",
   "metadata": {
    "height": 64
   },
   "outputs": [
    {
     "name": "stdout",
     "output_type": "stream",
     "text": [
      "<class 'langchain_community.tools.tavily_search.tool.TavilySearchResults'>\n",
      "tavily_search_results_json\n"
     ]
    }
   ],
   "source": [
    "tool = TavilySearchResults(max_results=4) #increased number of results\n",
    "print(type(tool))\n",
    "print(tool.name)"
   ]
  },
  {
   "cell_type": "markdown",
   "id": "e196c186-af55-4f2d-b569-b7d63a859304",
   "metadata": {},
   "source": [
    "> If you are not familiar with python typing annotation, you can refer to the [python documents](https://docs.python.org/3/library/typing.html)."
   ]
  },
  {
   "cell_type": "code",
   "execution_count": 7,
   "id": "a2ba84ec-c172-4de7-ac55-e3158a531b23",
   "metadata": {
    "height": 47
   },
   "outputs": [],
   "source": [
    "class AgentState(TypedDict):\n",
    "    messages: Annotated[list[AnyMessage], operator.add]"
   ]
  },
  {
   "cell_type": "markdown",
   "id": "74c7ba73-e603-453b-b06f-5db92c567b19",
   "metadata": {},
   "source": [
    "> Note: in `take_action` below, some logic was added to cover the case that the LLM returned a non-existent tool name. Even with function calling, LLMs can still occasionally hallucinate. Note that all that is done is instructing the LLM to try again! An advantage of an agentic organization."
   ]
  },
  {
   "cell_type": "code",
   "execution_count": 8,
   "id": "876d5092-b8ef-4e38-b4d7-0e80c609bf7a",
   "metadata": {
    "height": 727
   },
   "outputs": [],
   "source": [
    "class Agent:\n",
    "\n",
    "    def __init__(self, model, tools, system=\"\"):\n",
    "        self.system = system\n",
    "        graph = StateGraph(AgentState)\n",
    "        graph.add_node(\"llm\", self.call_openai)\n",
    "        graph.add_node(\"action\", self.take_action)\n",
    "        graph.add_conditional_edges(\n",
    "            \"llm\",\n",
    "            self.exists_action,\n",
    "            {True: \"action\", False: END}\n",
    "        )\n",
    "        graph.add_edge(\"action\", \"llm\")\n",
    "        graph.set_entry_point(\"llm\")\n",
    "        self.graph = graph.compile()\n",
    "        self.tools = {t.name: t for t in tools}\n",
    "        self.model = model.bind_tools(tools)\n",
    "\n",
    "    def exists_action(self, state: AgentState):\n",
    "        result = state['messages'][-1]\n",
    "        return len(result.tool_calls) > 0\n",
    "\n",
    "    def call_openai(self, state: AgentState):\n",
    "        messages = state['messages']\n",
    "        if self.system:\n",
    "            messages = [SystemMessage(content=self.system)] + messages\n",
    "        message = self.model.invoke(messages)\n",
    "        return {'messages': [message]}\n",
    "\n",
    "    def take_action(self, state: AgentState):\n",
    "        tool_calls = state['messages'][-1].tool_calls\n",
    "        results = []\n",
    "        for t in tool_calls:\n",
    "            print(f\"Calling: {t}\")\n",
    "            if not t['name'] in self.tools:      # check for bad tool name from LLM\n",
    "                print(\"\\n ....bad tool name....\")\n",
    "                result = \"bad tool name, retry\"  # instruct LLM to retry if bad\n",
    "            else:\n",
    "                result = self.tools[t['name']].invoke(t['args'])\n",
    "            results.append(ToolMessage(tool_call_id=t['id'], name=t['name'], content=str(result)))\n",
    "        print(\"Back to the model!\")\n",
    "        return {'messages': results}"
   ]
  },
  {
   "cell_type": "code",
   "execution_count": 9,
   "id": "10084a02-2928-4945-9f7c-ad3f5b33caf7",
   "metadata": {
    "height": 149
   },
   "outputs": [],
   "source": [
    "prompt = \"\"\"You are a smart research assistant. Use the search engine to look up information. \\\n",
    "You are allowed to make multiple calls (either together or in sequence). \\\n",
    "Only look up information when you are sure of what you want. \\\n",
    "If you need to look up some information before asking a follow up question, you are allowed to do that!\n",
    "\"\"\"\n",
    "\n",
    "model = ChatOpenAI(model=\"gpt-3.5-turbo\")  #reduce inference cost\n",
    "abot = Agent(model, [tool], system=prompt)"
   ]
  },
  {
   "cell_type": "code",
   "execution_count": 12,
   "id": "a3d6f5f4-2392-41b9-ab96-7919840baa3e",
   "metadata": {
    "height": 64
   },
   "outputs": [
    {
     "data": {
      "image/png": "[encoded data removed]",
      "text/plain": [
       "<IPython.core.display.Image object>"
      ]
     },
     "execution_count": 12,
     "metadata": {},
     "output_type": "execute_result"
    }
   ],
   "source": [
    "from IPython.display import Image\n",
    "\n",
    "Image(abot.graph.get_graph().draw_png())"
   ]
  },
  {
   "cell_type": "code",
   "execution_count": 11,
   "id": "83588e70-254f-4f83-a510-c8ae81e729b0",
   "metadata": {
    "height": 47
   },
   "outputs": [
    {
     "name": "stdout",
     "output_type": "stream",
     "text": [
      "Calling: {'name': 'tavily_search_results_json', 'args': {'query': 'weather in San Francisco'}, 'id': 'call_b6BQDIcfLhUvFciySfmBoZPK'}\n",
      "Back to the model!\n"
     ]
    }
   ],
   "source": [
    "messages = [HumanMessage(content=\"What is the weather in sf?\")]\n",
    "result = abot.graph.invoke({\"messages\": messages})"
   ]
  },
  {
   "cell_type": "code",
   "execution_count": 13,
   "id": "89a06a8c-fcd4-4ca6-98f0-36c5809813e6",
   "metadata": {
    "height": 30,
    "scrolled": true
   },
   "outputs": [
    {
     "data": {
      "text/plain": [
       "{'messages': [HumanMessage(content='What is the weather in sf?'),\n",
       "  AIMessage(content='', additional_kwargs={'tool_calls': [{'id': 'call_b6BQDIcfLhUvFciySfmBoZPK', 'function': {'arguments': '{\"query\":\"weather in San Francisco\"}', 'name': 'tavily_search_results_json'}, 'type': 'function'}]}, response_metadata={'token_usage': {'completion_tokens': 21, 'prompt_tokens': 153, 'total_tokens': 174, 'prompt_tokens_details': {'cached_tokens': 0, 'audio_tokens': 0}, 'completion_tokens_details': {'reasoning_tokens': 0, 'audio_tokens': 0, 'accepted_prediction_tokens': 0, 'rejected_prediction_tokens': 0}}, 'model_name': 'gpt-3.5-turbo', 'system_fingerprint': None, 'finish_reason': 'tool_calls', 'logprobs': None}, id='run-1cd29332-86cc-428e-8f1c-be3cbea0cc53-0', tool_calls=[{'name': 'tavily_search_results_json', 'args': {'query': 'weather in San Francisco'}, 'id': 'call_b6BQDIcfLhUvFciySfmBoZPK'}]),\n",
       "  ToolMessage(content=\"[{'url': 'https://weatherspark.com/h/m/568/2025/10/Historical-Weather-in-October-2025-in-South-San-Francisco-California-United-States', 'content': 'Temp.  61.0°F cool   |  |  |  --- | | 24-Hour Low | 55.9°F | | 24-Hour High | 66.0°F | | Dew Pt. | 57.0°F  comfortable | | Rel. Humidity | 87% |  Precipitation  No Report  Wind  4.6 mph light breeze   |  |  |  --- | | Wind Dir. | 290 deg, WNW |  Cloud Cover  Mostly Cloudy   4,200 ft   |  |  | Partly Cloudy 1,200 ft |   |  |  |  --- | | Vis. | 10.00 mi or greater | | Alt. | 30.07 inHg |  Raw: KSFO 260756Z 29004KT 10SM SCT012 BKN042 16/14 A3007 RMK AO2 SLP183 T01610139 401890133  This report [...] ESE  - | 7:39 PM | S | 241,366 mi | | 30 |  | 65%  12:44 AM | WSW | 3:05 PM | ESE | 8:27 PM | S | 237,459 mi | | 31 |  | 75%  1:51 AM | WSW | 3:32 PM | ESE | 9:15 PM | S | 233,379 mi |  Humidity Comfort Levels in October 2025 in South San Francisco Fall 2025  Link  Download  Compare  Averages  History:JFMAMJJASOctND2024202320222021  dry   55°F   comfortable   60°F   humid   65°F   muggy   70°F   oppressive   75°F   miserable  The hourly reported humidity comfort level, categorized by dew point.'}, {'url': 'https://www.weather25.com/north-america/usa?page=date&date=29-10', 'content': '| Precipitation | 0 in | 0 in | 0.01 in | 0 in | 0 in | 0 in | 0 in | 0 in |\\\\n| Chance of snow | 0% | 0% | 0% | 0% | 0% | 0% | 0% | 0% |\\\\n| Chance of frost | 0% | 0% | 0% | 0% | 0% | 0% | 0% | 0% |\\\\n| Humidity | 79% | 82% | 85% | 79% | 68% | 62% | 68% | 73% |\\\\n| Wind | 9 Miles | 8 Miles | 8 Miles | 8 Miles | 8 Miles | 7 Miles | 6 Miles | 6 Miles |\\\\n| Wind Gust | 14 Miles | 13 Miles | 11 Miles | 12 Miles | 10 Miles | 8 Miles | 10 Miles | 9 Miles | [...] | Temperature | 44°F | 44°F | 42°F | 42°F | 48°F | 51°F | 51°F | 48°F |\\\\n| Weather | Image 8: Clear Clear | Image 9: Patchy rain possible Patchy rain possible | Image 10: Patchy rain possible Patchy rain possible | Image 11: Overcast Overcast | Image 12: Partly cloudy Partly cloudy | Image 13: Cloudy Cloudy | Image 14: Cloudy Cloudy | Image 15: Cloudy Cloudy |\\\\n| Chance of rain | 0% | 80% | 100% | 0% | 0% | 0% | 0% | 0% | [...] | Wind Degree | 34° Image 16: 50° | 18° Image 17: 50° | 15° Image 18: 50° | 23° Image 19: 50° | 52° Image 20: 50° | 56° Image 21: 50° | 57° Image 22: 50° | 50° Image 23: 50° |\\\\n| Wind Direction | NNE | NNE | NNE | NNE | NE | NE | ENE | NE |\\\\n| Cloud Cover | 0% | 72% | 86% | 100% | 49% | 67% | 84% | 50% |\\\\n| UV Index | 0 | 0 | 0 | 0 | 2 | 2 | 0 | 0 |\\\\n| Visibility | 6 Miles | 6 Miles | 6 Miles | 6 Miles | 6 Miles | 6 Miles | 6 Miles | 6 Miles |'}, {'url': 'https://www.weather25.com/north-america/usa/california/san-francisco?page=month&month=October', 'content': '| 26 Image 53: Sunny 19°/13° | 27 Image 54: Sunny 19°/12° | 28 Image 55: Sunny 26°/10° | 29 Image 56: Mist 17°/13° | 30 Image 57: Fog 13°/12° | 31 Image 58: Fog 18°/12° |  | [...] | Sun | Mon | Tue | Wed | Thu | Fri | Sat |\\\\n ---  ---  --- \\\\n|  |  |  | 1 Image 28: Sunny 22°/15° | 2 Image 29: Sunny 22°/15° | 3 Image 30: Sunny 22°/14° | 4 Image 31: Partly cloudy 20°/13° |\\\\n| 5 Image 32: Sunny 23°/15° | 6 Image 33: Partly cloudy 22°/15° | 7 Image 34: Partly cloudy 21°/14° | 8 Image 35: Overcast 19°/13° | 9 Image 36: Partly cloudy 18°/12° | 10 Image 37: Sunny 18°/13° | 11 Image 38: Partly cloudy 19°/12° | [...] The average weather in San Francisco in October\\\\n\\\\nThe temperatures in San Francisco in October are comfortable with low of 13°C and and high up to 23°C.\\\\n\\\\nThe wather in San Francisco in October can vary between cold and nice weather days. Expect a few rainy days but usually not more than 3.\\\\n\\\\nOur weather forecast can give you a great sense of what weather to expect in San Francisco in October 2025.'}, {'url': 'https://weatherspark.com/h/m/557/2025/10/Historical-Weather-in-October-2025-in-San-Francisco-California-United-States', 'content': '|  --- | | 6-Hour Low | 62.1°F | | 6-Hour High | 75.0°F | | Dew Pt. | 55.9°F  comfortable | | Rel. Humidity | 59% |  Precipitation  No Report  Wind  12.7 mph gentle breeze   |  |  |  --- | | Wind Dir. | 300 deg, WNW |  Cloud Cover  Mostly Clear   20,000 ft   |  |  |  --- | | Vis. | 10.00 mi or greater | | Alt. | 29.95 inHg |  Raw: KSFO 172356Z 30011KT 10SM FEW200 22/13 A2995 RMK AO2 SLP143 T02170133 10239 20167 56010  This report shows the past weather for San Francisco, providing a weather [...] | 17% | 11:39 AM | SE | 8:41 PM | SW  4:10 PM | S | 251,477 mi | | 26 |  | 25% | 12:33 PM | SE | 9:34 PM | SW  5:04 PM | S | 249,964 mi | | 27 |  | 34% | 1:20 PM | SE | 10:34 PM | SW  5:57 PM | S | 247,748 mi | | 28 |  | 44% | 2:00 PM | ESE | 11:37 PM | WSW  6:49 PM | S | 244,852 mi | | 29 |  | 50% | 2:35 PM | ESE  - | 7:39 PM | S | 241,366 mi | | 30 |  | 65%  12:43 AM | WSW | 3:05 PM | ESE | 8:27 PM | S | 237,459 mi | | 31 |  | 75%  1:51 AM | WSW | 3:32 PM | ESE | 9:15 PM | S | 233,379 mi | [...] indicate night and civil twilight.  © OpenStreetMap contributors  Compare San Francisco to another city:  Cloud Cover in October 2025 in San Francisco Fall 2025  Link  Download  Compare  Averages  History:JFMAMJJASOctND2024202320222021  0%   clear   20%   mostly clear   40%   partly cloudy   60%   mostly cloudy   80%   overcast   100%  no significant cloudno cloud detectedceiling and visibility ok  The hourly reported cloud coverage, categorized by the percentage of the sky covered by clouds.'}]\", name='tavily_search_results_json', tool_call_id='call_b6BQDIcfLhUvFciySfmBoZPK'),\n",
       "  AIMessage(content='The weather in San Francisco is currently around 61.0°F with a low of 55.9°F and a high of 66.0°F. The humidity is at 87%, and there is no precipitation reported. The wind speed is 4.6 mph with a light breeze. The sky is mostly cloudy with a cloud cover of 4,200 ft.', response_metadata={'token_usage': {'completion_tokens': 77, 'prompt_tokens': 2339, 'total_tokens': 2416, 'prompt_tokens_details': {'cached_tokens': 0, 'audio_tokens': 0}, 'completion_tokens_details': {'reasoning_tokens': 0, 'audio_tokens': 0, 'accepted_prediction_tokens': 0, 'rejected_prediction_tokens': 0}}, 'model_name': 'gpt-3.5-turbo', 'system_fingerprint': None, 'finish_reason': 'stop', 'logprobs': None}, id='run-f1d1a905-7361-48b8-abc3-fdd122063b63-0')]}"
      ]
     },
     "execution_count": 13,
     "metadata": {},
     "output_type": "execute_result"
    }
   ],
   "source": [
    "result"
   ]
  },
  {
   "cell_type": "code",
   "execution_count": 14,
   "id": "6cb3ef4c-58b3-401b-b104-0d51e553d982",
   "metadata": {
    "height": 30
   },
   "outputs": [
    {
     "data": {
      "text/plain": [
       "'The weather in San Francisco is currently around 61.0°F with a low of 55.9°F and a high of 66.0°F. The humidity is at 87%, and there is no precipitation reported. The wind speed is 4.6 mph with a light breeze. The sky is mostly cloudy with a cloud cover of 4,200 ft.'"
      ]
     },
     "execution_count": 14,
     "metadata": {},
     "output_type": "execute_result"
    }
   ],
   "source": [
    "result['messages'][-1].content"
   ]
  },
  {
   "cell_type": "code",
   "execution_count": 15,
   "id": "dc3293b7-a50c-43c8-a022-8975e1e444b8",
   "metadata": {
    "height": 47
   },
   "outputs": [
    {
     "name": "stdout",
     "output_type": "stream",
     "text": [
      "Calling: {'name': 'tavily_search_results_json', 'args': {'query': 'weather in San Francisco'}, 'id': 'call_TYuH0D1wU5vJWysp0RSadWE9'}\n",
      "Calling: {'name': 'tavily_search_results_json', 'args': {'query': 'weather in Los Angeles'}, 'id': 'call_hDYyA3kgH4DD9mVdrQKg7VJw'}\n",
      "Back to the model!\n"
     ]
    }
   ],
   "source": [
    "messages = [HumanMessage(content=\"What is the weather in SF and LA?\")]\n",
    "result = abot.graph.invoke({\"messages\": messages})"
   ]
  },
  {
   "cell_type": "code",
   "execution_count": 16,
   "id": "0722c3d4-4cbf-43bf-81b0-50f634c4ce61",
   "metadata": {
    "height": 30
   },
   "outputs": [
    {
     "data": {
      "text/plain": [
       "'The weather in San Francisco is currently cool with a temperature of 61.0°F, a 24-hour low of 55.9°F, and a 24-hour high of 66.0°F. The humidity is at 87%, and there is mostly cloudy cloud cover at 4,200 ft. The wind speed is 4.6 mph as a light breeze coming from the west-northwest direction.\\n\\nIn Los Angeles, the weather is also comfortable with a temperature of 61.0°F, a dew point of 57.0°F, and a relative humidity of 87%. The wind speed is 3.5 mph as a light air coming from the northeast direction. The cloud cover is mostly clear at 900 ft.\\n\\nIf you need more details or specific information, feel free to ask!'"
      ]
     },
     "execution_count": 16,
     "metadata": {},
     "output_type": "execute_result"
    }
   ],
   "source": [
    "result['messages'][-1].content"
   ]
  },
  {
   "cell_type": "code",
   "execution_count": 17,
   "id": "6b2f82fe-3ec4-4917-be51-9fb10d1317fa",
   "metadata": {
    "height": 183
   },
   "outputs": [
    {
     "name": "stdout",
     "output_type": "stream",
     "text": [
      "Calling: {'name': 'tavily_search_results_json', 'args': {'query': '2024 Super Bowl winner'}, 'id': 'call_qqYJSyHDqQu09kamDGDUAnDo'}\n",
      "Back to the model!\n",
      "Calling: {'name': 'tavily_search_results_json', 'args': {'query': 'Kansas City Chiefs headquarters state'}, 'id': 'call_Xcjfdg5CpkOJrfXGrBe3Z2C9'}\n",
      "Calling: {'name': 'tavily_search_results_json', 'args': {'query': 'Missouri GDP 2024'}, 'id': 'call_y1bfldpCT0Iip1yhijgDZYaA'}\n",
      "Back to the model!\n"
     ]
    }
   ],
   "source": [
    "# Note, the query was modified to produce more consistent results. \n",
    "# Results may vary per run and over time as search information and models change.\n",
    "\n",
    "query = \"Who won the super bowl in 2024? In what state is the winning team headquarters located? \\\n",
    "What is the GDP of that state? Answer each question.\" \n",
    "messages = [HumanMessage(content=query)]\n",
    "\n",
    "model = ChatOpenAI(model=\"gpt-4o\")  # requires more advanced model\n",
    "abot = Agent(model, [tool], system=prompt)\n",
    "result = abot.graph.invoke({\"messages\": messages})"
   ]
  },
  {
   "cell_type": "code",
   "execution_count": 18,
   "id": "ee0fe1c7-77e2-499c-a2f9-1f739bb6ddf0",
   "metadata": {
    "height": 30
   },
   "outputs": [
    {
     "name": "stdout",
     "output_type": "stream",
     "text": [
      "1. **Who won the Super Bowl in 2024?**\n",
      "   - The Kansas City Chiefs won the Super Bowl in 2024, defeating the San Francisco 49ers in an overtime thriller with a score of 25-22.\n",
      "\n",
      "2. **In what state is the winning team's headquarters located?**\n",
      "   - The Kansas City Chiefs' headquarters is located in Kansas City, Missouri.\n",
      "\n",
      "3. **What is the GDP of that state?**\n",
      "   - In 2024, Missouri's GDP was approximately $356.7 billion.\n"
     ]
    }
   ],
   "source": [
    "print(result['messages'][-1].content)"
   ]
  },
  {
   "cell_type": "code",
   "execution_count": null,
   "id": "1d643182-2802-40fb-ba35-d4f893c5b976",
   "metadata": {
    "height": 30
   },
   "outputs": [],
   "source": []
  }
 ],
 "metadata": {
  "kernelspec": {
   "display_name": "Python (studies)",
   "language": "python",
   "name": "studies"
  },
  "language_info": {
   "codemirror_mode": {
    "name": "ipython",
    "version": 3
   },
   "file_extension": ".py",
   "mimetype": "text/x-python",
   "name": "python",
   "nbconvert_exporter": "python",
   "pygments_lexer": "ipython3",
   "version": "3.12.9"
  }
 },
 "nbformat": 4,
 "nbformat_minor": 5
}
