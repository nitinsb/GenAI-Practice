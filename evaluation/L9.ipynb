{
 "cells": [
  {
   "cell_type": "code",
   "execution_count": 17,
   "metadata": {},
   "outputs": [],
   "source": [
    "import warnings\n",
    "warnings.filterwarnings('ignore')"
   ]
  },
  {
   "cell_type": "code",
   "execution_count": 18,
   "metadata": {},
   "outputs": [],
   "source": [
    "import phoenix as px\n",
    "from phoenix.evals import OpenAIModel\n",
    "from phoenix.experiments import run_experiment, evaluate_experiment\n",
    "from phoenix.experiments.types import Example\n",
    "from phoenix.experiments.evaluators import create_evaluator\n",
    "from phoenix.otel import register\n",
    "import pandas as pd\n",
    "from datetime import datetime\n",
    "import os\n",
    "import nest_asyncio\n",
    "nest_asyncio.apply()"
   ]
  },
  {
   "cell_type": "code",
   "execution_count": 27,
   "metadata": {},
   "outputs": [
    {
     "name": "stderr",
     "output_type": "stream",
     "text": [
      "Overriding of current TracerProvider is not allowed\n",
      "Attempting to instrument while already instrumented\n"
     ]
    },
    {
     "name": "stdout",
     "output_type": "stream",
     "text": [
      "🔭 OpenTelemetry Tracing Details 🔭\n",
      "|  Phoenix Project: evaluating-agent-path\n",
      "|  Span Processor: SimpleSpanProcessor\n",
      "|  Collector Endpoint: http://localhost:6006/v1/traces\n",
      "|  Transport: HTTP + protobuf\n",
      "|  Transport Headers: {}\n",
      "|  \n",
      "|  Using a default SpanProcessor. `add_span_processor` will overwrite this default.\n",
      "|  \n",
      "|  `register` has set this TracerProvider as the global OpenTelemetry default.\n",
      "|  To disable this behavior, call `register` with `set_global_tracer_provider=False`.\n",
      "\n"
     ]
    }
   ],
   "source": [
    "from utilsl9 import run_agent, get_phoenix_endpoint"
   ]
  },
  {
   "cell_type": "code",
   "execution_count": 28,
   "metadata": {},
   "outputs": [],
   "source": [
    "px_client = px.Client()"
   ]
  },
  {
   "cell_type": "code",
   "execution_count": 29,
   "metadata": {},
   "outputs": [
    {
     "name": "stdout",
     "output_type": "stream",
     "text": [
      "📤 Uploading dataset...\n",
      "💾 Examples uploaded: http://localhost:6006/datasets/RGF0YXNldDoz/examples\n",
      "🗄️ Dataset version ID: RGF0YXNldFZlcnNpb246Mw==\n"
     ]
    }
   ],
   "source": [
    "convergence_questions = [\n",
    "    \"What was the average quantity sold per transaction?\",\n",
    "    \"What is the mean number of items per sale?\", \n",
    "    \"Calculate the typical quantity per transaction\",\n",
    "    \"What's the mean transaction size in terms of quantity?\",\n",
    "    \"On average, how many items were purchased per transaction?\",\n",
    "    \"What is the average basket size per sale?\",\n",
    "    \"Calculate the mean number of products per purchase\",\n",
    "    \"What's the typical number of units per order?\",\n",
    "    \"What is the average number of products bought per purchase?\",\n",
    "    \"Tell me the mean quantity of items in a typical transaction\",\n",
    "    \"How many items does a customer buy on average per transaction?\",\n",
    "    \"What's the usual number of units in each sale?\",\n",
    "    \"What is the typical amount of products per transaction?\",\n",
    "    \"Show the mean number of items customers purchase per visit\",\n",
    "    \"What's the average quantity of units per shopping trip?\",\n",
    "    \"How many products do customers typically buy in one transaction?\",\n",
    "    \"What is the standard basket size in terms of quantity?\"\n",
    "]\n",
    "\n",
    "convergence_df = pd.DataFrame({\n",
    "    'question': convergence_questions\n",
    "})\n",
    "\n",
    "now = datetime.now().strftime(\"%Y-%m-%d %H:%M:%S\")\n",
    "dataset = px_client.upload_dataset(dataframe=convergence_df, \n",
    "                                   dataset_name=f\"convergence_questions-{now}\",\n",
    "                                   input_keys=[\"question\"])"
   ]
  },
  {
   "cell_type": "code",
   "execution_count": 30,
   "metadata": {},
   "outputs": [
    {
     "name": "stdout",
     "output_type": "stream",
     "text": [
      "http://localhost:6006/\n"
     ]
    }
   ],
   "source": [
    "print(get_phoenix_endpoint())"
   ]
  },
  {
   "cell_type": "code",
   "execution_count": 31,
   "metadata": {},
   "outputs": [],
   "source": [
    "# helper method to format the output returned by the task\n",
    "def format_message_steps(messages):\n",
    "    \"\"\"\n",
    "    Convert a list of message objects into a readable format that shows the steps taken.\n",
    "\n",
    "    Args:\n",
    "        messages (list): A list of message objects containing role, content, tool calls, etc.\n",
    "\n",
    "    Returns:\n",
    "        str: A readable string showing the steps taken.\n",
    "    \"\"\"\n",
    "    steps = []\n",
    "    for message in messages:\n",
    "        role = message.get(\"role\")\n",
    "        if role == \"user\":\n",
    "            steps.append(f\"User: {message.get('content')}\")\n",
    "        elif role == \"system\":\n",
    "            steps.append(\"System: Provided context\")\n",
    "        elif role == \"assistant\":\n",
    "            if message.get(\"tool_calls\"):\n",
    "                for tool_call in message[\"tool_calls\"]:\n",
    "                    tool_name = tool_call[\"function\"][\"name\"]\n",
    "                    steps.append(f\"Assistant: Called tool '{tool_name}'\")\n",
    "            else:\n",
    "                steps.append(f\"Assistant: {message.get('content')}\")\n",
    "        elif role == \"tool\":\n",
    "            steps.append(f\"Tool response: {message.get('content')}\")\n",
    "    \n",
    "    return \"\\n\".join(steps)"
   ]
  },
  {
   "cell_type": "code",
   "execution_count": 32,
   "metadata": {},
   "outputs": [],
   "source": [
    "def run_agent_and_track_path(example: Example) -> str:\n",
    "    messages = [{\"role\": \"user\", \"content\": example.input.get(\"question\")}]\n",
    "    ret = run_agent(messages)\n",
    "    return {\"path_length\": len(ret), \"messages\": format_message_steps(ret)}"
   ]
  },
  {
   "cell_type": "code",
   "execution_count": 33,
   "metadata": {},
   "outputs": [
    {
     "name": "stdout",
     "output_type": "stream",
     "text": [
      "🧪 Experiment started.\n",
      "📺 View dataset experiments: http://localhost:6006/datasets/RGF0YXNldDoz/experiments\n",
      "🔗 View this experiment: http://localhost:6006/datasets/RGF0YXNldDoz/compare?experimentId=RXhwZXJpbWVudDo0\n"
     ]
    },
    {
     "data": {
      "application/vnd.jupyter.widget-view+json": {
       "model_id": "108d4fe89fb44642a7dc166adb23c8b2",
       "version_major": 2,
       "version_minor": 0
      },
      "text/plain": [
       "running tasks |          | 0/17 (0.0%) | ⏳ 00:00<? | ?it/s"
      ]
     },
     "metadata": {},
     "output_type": "display_data"
    },
    {
     "name": "stdout",
     "output_type": "stream",
     "text": [
      "Running agent with messages: [{'role': 'user', 'content': 'What was the average quantity sold per transaction?'}]\n",
      "Added system prompt to messages\n",
      "Starting router\n",
      "Received response with tool calls: True\n",
      "Processing tool calls\n",
      "Starting router\n",
      "Received response with tool calls: False\n",
      "No tool calls, returning final response\n",
      "Running agent with messages: [{'role': 'user', 'content': 'What is the mean number of items per sale?'}]\n",
      "Added system prompt to messages\n",
      "Starting router\n",
      "Received response with tool calls: True\n",
      "Processing tool calls\n",
      "Starting router\n",
      "Received response with tool calls: False\n",
      "No tool calls, returning final response\n",
      "Running agent with messages: [{'role': 'user', 'content': 'Calculate the typical quantity per transaction'}]\n",
      "Added system prompt to messages\n",
      "Starting router\n",
      "Received response with tool calls: True\n",
      "Processing tool calls\n",
      "Starting router\n",
      "Received response with tool calls: False\n",
      "No tool calls, returning final response\n",
      "Running agent with messages: [{'role': 'user', 'content': \"What's the mean transaction size in terms of quantity?\"}]\n",
      "Added system prompt to messages\n",
      "Starting router\n",
      "Received response with tool calls: True\n",
      "Processing tool calls\n",
      "Starting router\n",
      "Received response with tool calls: False\n",
      "No tool calls, returning final response\n",
      "Running agent with messages: [{'role': 'user', 'content': 'On average, how many items were purchased per transaction?'}]\n",
      "Added system prompt to messages\n",
      "Starting router\n",
      "Received response with tool calls: True\n",
      "Processing tool calls\n",
      "Starting router\n",
      "Received response with tool calls: False\n",
      "No tool calls, returning final response\n",
      "Running agent with messages: [{'role': 'user', 'content': 'What is the average basket size per sale?'}]\n",
      "Added system prompt to messages\n",
      "Starting router\n",
      "Received response with tool calls: True\n",
      "Processing tool calls\n",
      "Starting router\n",
      "Received response with tool calls: False\n",
      "No tool calls, returning final response\n",
      "Running agent with messages: [{'role': 'user', 'content': 'Calculate the mean number of products per purchase'}]\n",
      "Added system prompt to messages\n",
      "Starting router\n",
      "Received response with tool calls: True\n",
      "Processing tool calls\n",
      "Starting router\n",
      "Received response with tool calls: False\n",
      "No tool calls, returning final response\n",
      "Running agent with messages: [{'role': 'user', 'content': \"What's the typical number of units per order?\"}]\n",
      "Added system prompt to messages\n",
      "Starting router\n",
      "Received response with tool calls: True\n",
      "Processing tool calls\n",
      "Starting router\n",
      "Received response with tool calls: False\n",
      "No tool calls, returning final response\n",
      "Running agent with messages: [{'role': 'user', 'content': 'What is the average number of products bought per purchase?'}]\n",
      "Added system prompt to messages\n",
      "Starting router\n",
      "Received response with tool calls: True\n",
      "Processing tool calls\n",
      "Starting router\n",
      "Received response with tool calls: False\n",
      "No tool calls, returning final response\n",
      "Running agent with messages: [{'role': 'user', 'content': 'Tell me the mean quantity of items in a typical transaction'}]\n",
      "Added system prompt to messages\n",
      "Starting router\n",
      "Received response with tool calls: True\n",
      "Processing tool calls\n",
      "Starting router\n",
      "Received response with tool calls: False\n",
      "No tool calls, returning final response\n",
      "Running agent with messages: [{'role': 'user', 'content': 'How many items does a customer buy on average per transaction?'}]\n",
      "Added system prompt to messages\n",
      "Starting router\n",
      "Received response with tool calls: True\n",
      "Processing tool calls\n",
      "Starting router\n",
      "Received response with tool calls: False\n",
      "No tool calls, returning final response\n",
      "Running agent with messages: [{'role': 'user', 'content': \"What's the usual number of units in each sale?\"}]\n",
      "Added system prompt to messages\n",
      "Starting router\n",
      "Received response with tool calls: True\n",
      "Processing tool calls\n",
      "Starting router\n",
      "Received response with tool calls: False\n",
      "No tool calls, returning final response\n",
      "Running agent with messages: [{'role': 'user', 'content': 'What is the typical amount of products per transaction?'}]\n",
      "Added system prompt to messages\n",
      "Starting router\n",
      "Received response with tool calls: True\n",
      "Processing tool calls\n",
      "Starting router\n",
      "Received response with tool calls: False\n",
      "No tool calls, returning final response\n",
      "Running agent with messages: [{'role': 'user', 'content': 'Show the mean number of items customers purchase per visit'}]\n",
      "Added system prompt to messages\n",
      "Starting router\n",
      "Received response with tool calls: True\n",
      "Processing tool calls\n",
      "Starting router\n",
      "Received response with tool calls: False\n",
      "No tool calls, returning final response\n",
      "Running agent with messages: [{'role': 'user', 'content': \"What's the average quantity of units per shopping trip?\"}]\n",
      "Added system prompt to messages\n",
      "Starting router\n",
      "Received response with tool calls: True\n",
      "Processing tool calls\n",
      "Starting router\n",
      "Received response with tool calls: False\n",
      "No tool calls, returning final response\n",
      "Running agent with messages: [{'role': 'user', 'content': 'How many products do customers typically buy in one transaction?'}]\n",
      "Added system prompt to messages\n",
      "Starting router\n",
      "Received response with tool calls: True\n",
      "Processing tool calls\n",
      "Starting router\n",
      "Received response with tool calls: False\n",
      "No tool calls, returning final response\n",
      "Running agent with messages: [{'role': 'user', 'content': 'What is the standard basket size in terms of quantity?'}]\n",
      "Added system prompt to messages\n",
      "Starting router\n",
      "Received response with tool calls: True\n",
      "Processing tool calls\n",
      "Starting router\n",
      "Received response with tool calls: False\n",
      "No tool calls, returning final response\n",
      "✅ Task runs completed.\n",
      "\n",
      "🔗 View this experiment: http://localhost:6006/datasets/RGF0YXNldDoz/compare?experimentId=RXhwZXJpbWVudDo0\n",
      "\n",
      "Tasks Summary (03/08/25 07:01 PM -0800)\n",
      "---------------------------------------\n",
      "   n_examples  n_runs  n_errors\n",
      "0          17      17         0\n"
     ]
    }
   ],
   "source": [
    "experiment = run_experiment(dataset,\n",
    "                            run_agent_and_track_path,\n",
    "                            experiment_name=\"Convergence Eval\",\n",
    "                            experiment_description=\"Evaluating the convergence of the agent\")"
   ]
  },
  {
   "cell_type": "code",
   "execution_count": 15,
   "metadata": {},
   "outputs": [
    {
     "data": {
      "text/html": [
       "<div>\n",
       "<style scoped>\n",
       "    .dataframe tbody tr th:only-of-type {\n",
       "        vertical-align: middle;\n",
       "    }\n",
       "\n",
       "    .dataframe tbody tr th {\n",
       "        vertical-align: top;\n",
       "    }\n",
       "\n",
       "    .dataframe thead th {\n",
       "        text-align: right;\n",
       "    }\n",
       "</style>\n",
       "<table border=\"1\" class=\"dataframe\">\n",
       "  <thead>\n",
       "    <tr style=\"text-align: right;\">\n",
       "      <th></th>\n",
       "      <th>error</th>\n",
       "      <th>input</th>\n",
       "      <th>example_id</th>\n",
       "    </tr>\n",
       "    <tr>\n",
       "      <th>run_id</th>\n",
       "      <th></th>\n",
       "      <th></th>\n",
       "      <th></th>\n",
       "    </tr>\n",
       "  </thead>\n",
       "  <tbody>\n",
       "    <tr>\n",
       "      <th>RXhwZXJpbWVudFJ1bjoxOA==</th>\n",
       "      <td>AttributeError(\"'str' object has no attribute ...</td>\n",
       "      <td>{'question': 'What was the average quantity so...</td>\n",
       "      <td>RGF0YXNldEV4YW1wbGU6MTg=</td>\n",
       "    </tr>\n",
       "    <tr>\n",
       "      <th>RXhwZXJpbWVudFJ1bjoxOQ==</th>\n",
       "      <td>AttributeError(\"'str' object has no attribute ...</td>\n",
       "      <td>{'question': 'What is the mean number of items...</td>\n",
       "      <td>RGF0YXNldEV4YW1wbGU6MTk=</td>\n",
       "    </tr>\n",
       "    <tr>\n",
       "      <th>RXhwZXJpbWVudFJ1bjoyMA==</th>\n",
       "      <td>AttributeError(\"'str' object has no attribute ...</td>\n",
       "      <td>{'question': 'Calculate the typical quantity p...</td>\n",
       "      <td>RGF0YXNldEV4YW1wbGU6MjA=</td>\n",
       "    </tr>\n",
       "    <tr>\n",
       "      <th>RXhwZXJpbWVudFJ1bjoyMQ==</th>\n",
       "      <td>AttributeError(\"'str' object has no attribute ...</td>\n",
       "      <td>{'question': 'What's the mean transaction size...</td>\n",
       "      <td>RGF0YXNldEV4YW1wbGU6MjE=</td>\n",
       "    </tr>\n",
       "    <tr>\n",
       "      <th>RXhwZXJpbWVudFJ1bjoyMg==</th>\n",
       "      <td>AttributeError(\"'str' object has no attribute ...</td>\n",
       "      <td>{'question': 'On average, how many items were ...</td>\n",
       "      <td>RGF0YXNldEV4YW1wbGU6MjI=</td>\n",
       "    </tr>\n",
       "    <tr>\n",
       "      <th>RXhwZXJpbWVudFJ1bjoyMw==</th>\n",
       "      <td>AttributeError(\"'str' object has no attribute ...</td>\n",
       "      <td>{'question': 'What is the average basket size ...</td>\n",
       "      <td>RGF0YXNldEV4YW1wbGU6MjM=</td>\n",
       "    </tr>\n",
       "    <tr>\n",
       "      <th>RXhwZXJpbWVudFJ1bjoyNA==</th>\n",
       "      <td>AttributeError(\"'str' object has no attribute ...</td>\n",
       "      <td>{'question': 'Calculate the mean number of pro...</td>\n",
       "      <td>RGF0YXNldEV4YW1wbGU6MjQ=</td>\n",
       "    </tr>\n",
       "    <tr>\n",
       "      <th>RXhwZXJpbWVudFJ1bjoyNQ==</th>\n",
       "      <td>AttributeError(\"'str' object has no attribute ...</td>\n",
       "      <td>{'question': 'What's the typical number of uni...</td>\n",
       "      <td>RGF0YXNldEV4YW1wbGU6MjU=</td>\n",
       "    </tr>\n",
       "    <tr>\n",
       "      <th>RXhwZXJpbWVudFJ1bjoyNg==</th>\n",
       "      <td>AttributeError(\"'str' object has no attribute ...</td>\n",
       "      <td>{'question': 'What is the average number of pr...</td>\n",
       "      <td>RGF0YXNldEV4YW1wbGU6MjY=</td>\n",
       "    </tr>\n",
       "    <tr>\n",
       "      <th>RXhwZXJpbWVudFJ1bjoyNw==</th>\n",
       "      <td>AttributeError(\"'str' object has no attribute ...</td>\n",
       "      <td>{'question': 'Tell me the mean quantity of ite...</td>\n",
       "      <td>RGF0YXNldEV4YW1wbGU6Mjc=</td>\n",
       "    </tr>\n",
       "    <tr>\n",
       "      <th>RXhwZXJpbWVudFJ1bjoyOA==</th>\n",
       "      <td>AttributeError(\"'str' object has no attribute ...</td>\n",
       "      <td>{'question': 'How many items does a customer b...</td>\n",
       "      <td>RGF0YXNldEV4YW1wbGU6Mjg=</td>\n",
       "    </tr>\n",
       "    <tr>\n",
       "      <th>RXhwZXJpbWVudFJ1bjoyOQ==</th>\n",
       "      <td>AttributeError(\"'str' object has no attribute ...</td>\n",
       "      <td>{'question': 'What's the usual number of units...</td>\n",
       "      <td>RGF0YXNldEV4YW1wbGU6Mjk=</td>\n",
       "    </tr>\n",
       "    <tr>\n",
       "      <th>RXhwZXJpbWVudFJ1bjozMA==</th>\n",
       "      <td>AttributeError(\"'str' object has no attribute ...</td>\n",
       "      <td>{'question': 'What is the typical amount of pr...</td>\n",
       "      <td>RGF0YXNldEV4YW1wbGU6MzA=</td>\n",
       "    </tr>\n",
       "    <tr>\n",
       "      <th>RXhwZXJpbWVudFJ1bjozMQ==</th>\n",
       "      <td>AttributeError(\"'str' object has no attribute ...</td>\n",
       "      <td>{'question': 'Show the mean number of items cu...</td>\n",
       "      <td>RGF0YXNldEV4YW1wbGU6MzE=</td>\n",
       "    </tr>\n",
       "    <tr>\n",
       "      <th>RXhwZXJpbWVudFJ1bjozMg==</th>\n",
       "      <td>AttributeError(\"'str' object has no attribute ...</td>\n",
       "      <td>{'question': 'What's the average quantity of u...</td>\n",
       "      <td>RGF0YXNldEV4YW1wbGU6MzI=</td>\n",
       "    </tr>\n",
       "    <tr>\n",
       "      <th>RXhwZXJpbWVudFJ1bjozMw==</th>\n",
       "      <td>AttributeError(\"'str' object has no attribute ...</td>\n",
       "      <td>{'question': 'How many products do customers t...</td>\n",
       "      <td>RGF0YXNldEV4YW1wbGU6MzM=</td>\n",
       "    </tr>\n",
       "    <tr>\n",
       "      <th>RXhwZXJpbWVudFJ1bjozNA==</th>\n",
       "      <td>AttributeError(\"'str' object has no attribute ...</td>\n",
       "      <td>{'question': 'What is the standard basket size...</td>\n",
       "      <td>RGF0YXNldEV4YW1wbGU6MzQ=</td>\n",
       "    </tr>\n",
       "  </tbody>\n",
       "</table>\n",
       "</div>"
      ],
      "text/plain": [
       "                                                                      error  \\\n",
       "run_id                                                                        \n",
       "RXhwZXJpbWVudFJ1bjoxOA==  AttributeError(\"'str' object has no attribute ...   \n",
       "RXhwZXJpbWVudFJ1bjoxOQ==  AttributeError(\"'str' object has no attribute ...   \n",
       "RXhwZXJpbWVudFJ1bjoyMA==  AttributeError(\"'str' object has no attribute ...   \n",
       "RXhwZXJpbWVudFJ1bjoyMQ==  AttributeError(\"'str' object has no attribute ...   \n",
       "RXhwZXJpbWVudFJ1bjoyMg==  AttributeError(\"'str' object has no attribute ...   \n",
       "RXhwZXJpbWVudFJ1bjoyMw==  AttributeError(\"'str' object has no attribute ...   \n",
       "RXhwZXJpbWVudFJ1bjoyNA==  AttributeError(\"'str' object has no attribute ...   \n",
       "RXhwZXJpbWVudFJ1bjoyNQ==  AttributeError(\"'str' object has no attribute ...   \n",
       "RXhwZXJpbWVudFJ1bjoyNg==  AttributeError(\"'str' object has no attribute ...   \n",
       "RXhwZXJpbWVudFJ1bjoyNw==  AttributeError(\"'str' object has no attribute ...   \n",
       "RXhwZXJpbWVudFJ1bjoyOA==  AttributeError(\"'str' object has no attribute ...   \n",
       "RXhwZXJpbWVudFJ1bjoyOQ==  AttributeError(\"'str' object has no attribute ...   \n",
       "RXhwZXJpbWVudFJ1bjozMA==  AttributeError(\"'str' object has no attribute ...   \n",
       "RXhwZXJpbWVudFJ1bjozMQ==  AttributeError(\"'str' object has no attribute ...   \n",
       "RXhwZXJpbWVudFJ1bjozMg==  AttributeError(\"'str' object has no attribute ...   \n",
       "RXhwZXJpbWVudFJ1bjozMw==  AttributeError(\"'str' object has no attribute ...   \n",
       "RXhwZXJpbWVudFJ1bjozNA==  AttributeError(\"'str' object has no attribute ...   \n",
       "\n",
       "                                                                      input  \\\n",
       "run_id                                                                        \n",
       "RXhwZXJpbWVudFJ1bjoxOA==  {'question': 'What was the average quantity so...   \n",
       "RXhwZXJpbWVudFJ1bjoxOQ==  {'question': 'What is the mean number of items...   \n",
       "RXhwZXJpbWVudFJ1bjoyMA==  {'question': 'Calculate the typical quantity p...   \n",
       "RXhwZXJpbWVudFJ1bjoyMQ==  {'question': 'What's the mean transaction size...   \n",
       "RXhwZXJpbWVudFJ1bjoyMg==  {'question': 'On average, how many items were ...   \n",
       "RXhwZXJpbWVudFJ1bjoyMw==  {'question': 'What is the average basket size ...   \n",
       "RXhwZXJpbWVudFJ1bjoyNA==  {'question': 'Calculate the mean number of pro...   \n",
       "RXhwZXJpbWVudFJ1bjoyNQ==  {'question': 'What's the typical number of uni...   \n",
       "RXhwZXJpbWVudFJ1bjoyNg==  {'question': 'What is the average number of pr...   \n",
       "RXhwZXJpbWVudFJ1bjoyNw==  {'question': 'Tell me the mean quantity of ite...   \n",
       "RXhwZXJpbWVudFJ1bjoyOA==  {'question': 'How many items does a customer b...   \n",
       "RXhwZXJpbWVudFJ1bjoyOQ==  {'question': 'What's the usual number of units...   \n",
       "RXhwZXJpbWVudFJ1bjozMA==  {'question': 'What is the typical amount of pr...   \n",
       "RXhwZXJpbWVudFJ1bjozMQ==  {'question': 'Show the mean number of items cu...   \n",
       "RXhwZXJpbWVudFJ1bjozMg==  {'question': 'What's the average quantity of u...   \n",
       "RXhwZXJpbWVudFJ1bjozMw==  {'question': 'How many products do customers t...   \n",
       "RXhwZXJpbWVudFJ1bjozNA==  {'question': 'What is the standard basket size...   \n",
       "\n",
       "                                        example_id  \n",
       "run_id                                              \n",
       "RXhwZXJpbWVudFJ1bjoxOA==  RGF0YXNldEV4YW1wbGU6MTg=  \n",
       "RXhwZXJpbWVudFJ1bjoxOQ==  RGF0YXNldEV4YW1wbGU6MTk=  \n",
       "RXhwZXJpbWVudFJ1bjoyMA==  RGF0YXNldEV4YW1wbGU6MjA=  \n",
       "RXhwZXJpbWVudFJ1bjoyMQ==  RGF0YXNldEV4YW1wbGU6MjE=  \n",
       "RXhwZXJpbWVudFJ1bjoyMg==  RGF0YXNldEV4YW1wbGU6MjI=  \n",
       "RXhwZXJpbWVudFJ1bjoyMw==  RGF0YXNldEV4YW1wbGU6MjM=  \n",
       "RXhwZXJpbWVudFJ1bjoyNA==  RGF0YXNldEV4YW1wbGU6MjQ=  \n",
       "RXhwZXJpbWVudFJ1bjoyNQ==  RGF0YXNldEV4YW1wbGU6MjU=  \n",
       "RXhwZXJpbWVudFJ1bjoyNg==  RGF0YXNldEV4YW1wbGU6MjY=  \n",
       "RXhwZXJpbWVudFJ1bjoyNw==  RGF0YXNldEV4YW1wbGU6Mjc=  \n",
       "RXhwZXJpbWVudFJ1bjoyOA==  RGF0YXNldEV4YW1wbGU6Mjg=  \n",
       "RXhwZXJpbWVudFJ1bjoyOQ==  RGF0YXNldEV4YW1wbGU6Mjk=  \n",
       "RXhwZXJpbWVudFJ1bjozMA==  RGF0YXNldEV4YW1wbGU6MzA=  \n",
       "RXhwZXJpbWVudFJ1bjozMQ==  RGF0YXNldEV4YW1wbGU6MzE=  \n",
       "RXhwZXJpbWVudFJ1bjozMg==  RGF0YXNldEV4YW1wbGU6MzI=  \n",
       "RXhwZXJpbWVudFJ1bjozMw==  RGF0YXNldEV4YW1wbGU6MzM=  \n",
       "RXhwZXJpbWVudFJ1bjozNA==  RGF0YXNldEV4YW1wbGU6MzQ=  "
      ]
     },
     "execution_count": 15,
     "metadata": {},
     "output_type": "execute_result"
    }
   ],
   "source": [
    "experiment.as_dataframe()"
   ]
  },
  {
   "cell_type": "code",
   "execution_count": 34,
   "metadata": {},
   "outputs": [
    {
     "name": "stdout",
     "output_type": "stream",
     "text": [
      "The optimal path length is 5\n"
     ]
    }
   ],
   "source": [
    "outputs = experiment.as_dataframe()[\"output\"].to_dict().values()\n",
    "\n",
    "# Will include the user and system messages\n",
    "optimal_path_length = min(output.get('path_length') for output in outputs if output and output.get('path_length') is not None)\n",
    "print(f\"The optimal path length is {optimal_path_length}\")"
   ]
  },
  {
   "cell_type": "code",
   "execution_count": 35,
   "metadata": {},
   "outputs": [],
   "source": [
    "@create_evaluator(name=\"Convergence Eval\", kind=\"CODE\")\n",
    "def evaluate_path_length(output: str) -> float:\n",
    "    if output and output.get(\"path_length\"):\n",
    "        return optimal_path_length/float(output.get(\"path_length\"))\n",
    "    else:\n",
    "        return 0"
   ]
  },
  {
   "cell_type": "code",
   "execution_count": 36,
   "metadata": {},
   "outputs": [
    {
     "name": "stdout",
     "output_type": "stream",
     "text": [
      "🧠 Evaluation started.\n"
     ]
    },
    {
     "data": {
      "application/vnd.jupyter.widget-view+json": {
       "model_id": "f66c26ecf5d940b6bdbf70cb3ae14ca4",
       "version_major": 2,
       "version_minor": 0
      },
      "text/plain": [
       "running experiment evaluations |          | 0/17 (0.0%) | ⏳ 00:00<? | ?it/s"
      ]
     },
     "metadata": {},
     "output_type": "display_data"
    },
    {
     "name": "stdout",
     "output_type": "stream",
     "text": [
      "\n",
      "🔗 View this experiment: http://localhost:6006/datasets/RGF0YXNldDoz/compare?experimentId=RXhwZXJpbWVudDo0\n",
      "\n",
      "Experiment Summary (03/08/25 07:06 PM -0800)\n",
      "--------------------------------------------\n",
      "          evaluator   n  n_scores  avg_score\n",
      "0  Convergence Eval  17        17        1.0\n",
      "\n",
      "Tasks Summary (03/08/25 07:01 PM -0800)\n",
      "---------------------------------------\n",
      "   n_examples  n_runs  n_errors\n",
      "0          17      17         0\n"
     ]
    }
   ],
   "source": [
    "experiment = evaluate_experiment(experiment,\n",
    "                            evaluators=[evaluate_path_length])"
   ]
  },
  {
   "cell_type": "code",
   "execution_count": null,
   "metadata": {},
   "outputs": [],
   "source": []
  }
 ],
 "metadata": {
  "kernelspec": {
   "display_name": "Python (studies)",
   "language": "python",
   "name": "studies"
  },
  "language_info": {
   "codemirror_mode": {
    "name": "ipython",
    "version": 3
   },
   "file_extension": ".py",
   "mimetype": "text/x-python",
   "name": "python",
   "nbconvert_exporter": "python",
   "pygments_lexer": "ipython3",
   "version": "3.12.9"
  }
 },
 "nbformat": 4,
 "nbformat_minor": 2
}
