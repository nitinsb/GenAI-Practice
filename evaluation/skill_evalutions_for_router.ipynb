{
 "cells": [
  {
   "cell_type": "code",
   "execution_count": 15,
   "metadata": {},
   "outputs": [],
   "source": [
    "import phoenix as px\n",
    "import os\n",
    "import json\n",
    "from tqdm import tqdm\n",
    "from phoenix.evals import (\n",
    "    TOOL_CALLING_PROMPT_TEMPLATE, \n",
    "    llm_classify,\n",
    "    OpenAIModel\n",
    ")\n",
    "from phoenix.trace import SpanEvaluations\n",
    "from phoenix.trace.dsl import SpanQuery\n",
    "from openinference.instrumentation import suppress_tracing\n",
    "\n",
    "import nest_asyncio # speed up things\n",
    "nest_asyncio.apply() # multiple calls asynoio loop"
   ]
  },
  {
   "cell_type": "code",
   "execution_count": 16,
   "metadata": {},
   "outputs": [],
   "source": [
    "PROJECT_NAME = \"evaluating-agent\""
   ]
  },
  {
   "cell_type": "code",
   "execution_count": 17,
   "metadata": {},
   "outputs": [],
   "source": [
    "from utils import run_agent, start_main_span, tools, get_phoenix_endpoint"
   ]
  },
  {
   "cell_type": "code",
   "execution_count": 18,
   "metadata": {},
   "outputs": [
    {
     "name": "stderr",
     "output_type": "stream",
     "text": [
      "Processing questions:   0%|          | 0/6 [00:00<?, ?it/s]"
     ]
    },
    {
     "name": "stdout",
     "output_type": "stream",
     "text": [
      "Starting main span with messages: [{'role': 'user', 'content': 'What was the most popular product SKU?'}]\n",
      "Running agent with messages: [{'role': 'user', 'content': 'What was the most popular product SKU?'}]\n",
      "Starting router call span\n",
      "Received response with tool calls: True\n",
      "Starting tool calls span\n",
      "Starting router call span\n"
     ]
    },
    {
     "name": "stderr",
     "output_type": "stream",
     "text": [
      "Processing questions:  17%|█▋        | 1/6 [00:02<00:14,  2.99s/it]"
     ]
    },
    {
     "name": "stdout",
     "output_type": "stream",
     "text": [
      "Received response with tool calls: False\n",
      "No tool calls, returning final response\n",
      "Starting main span with messages: [{'role': 'user', 'content': 'What was the total revenue across all stores?'}]\n",
      "Running agent with messages: [{'role': 'user', 'content': 'What was the total revenue across all stores?'}]\n",
      "Starting router call span\n",
      "Received response with tool calls: True\n",
      "Starting tool calls span\n",
      "Starting router call span\n"
     ]
    },
    {
     "name": "stderr",
     "output_type": "stream",
     "text": [
      "Processing questions:  33%|███▎      | 2/6 [00:05<00:09,  2.47s/it]"
     ]
    },
    {
     "name": "stdout",
     "output_type": "stream",
     "text": [
      "Received response with tool calls: False\n",
      "No tool calls, returning final response\n",
      "Starting main span with messages: [{'role': 'user', 'content': 'Which store had the highest sales volume?'}]\n",
      "Running agent with messages: [{'role': 'user', 'content': 'Which store had the highest sales volume?'}]\n",
      "Starting router call span\n",
      "Received response with tool calls: True\n",
      "Starting tool calls span\n",
      "Starting router call span\n"
     ]
    },
    {
     "name": "stderr",
     "output_type": "stream",
     "text": [
      "Processing questions:  50%|█████     | 3/6 [00:07<00:07,  2.60s/it]"
     ]
    },
    {
     "name": "stdout",
     "output_type": "stream",
     "text": [
      "Received response with tool calls: False\n",
      "No tool calls, returning final response\n",
      "Starting main span with messages: [{'role': 'user', 'content': 'Create a bar chart showing total sales by store'}]\n",
      "Running agent with messages: [{'role': 'user', 'content': 'Create a bar chart showing total sales by store'}]\n",
      "Starting router call span\n",
      "Received response with tool calls: True\n",
      "Starting tool calls span\n",
      "Starting router call span\n",
      "Received response with tool calls: True\n",
      "Starting tool calls span\n",
      "Starting router call span\n"
     ]
    },
    {
     "name": "stderr",
     "output_type": "stream",
     "text": [
      "Processing questions:  67%|██████▋   | 4/6 [00:31<00:21, 10.96s/it]"
     ]
    },
    {
     "name": "stdout",
     "output_type": "stream",
     "text": [
      "Received response with tool calls: False\n",
      "No tool calls, returning final response\n",
      "Starting main span with messages: [{'role': 'user', 'content': 'What percentage of items were sold on promotion?'}]\n",
      "Running agent with messages: [{'role': 'user', 'content': 'What percentage of items were sold on promotion?'}]\n",
      "Starting router call span\n",
      "Received response with tool calls: True\n",
      "Starting tool calls span\n",
      "Starting router call span\n",
      "Received response with tool calls: True\n",
      "Starting tool calls span\n",
      "Starting router call span\n"
     ]
    },
    {
     "name": "stderr",
     "output_type": "stream",
     "text": [
      "Processing questions:  83%|████████▎ | 5/6 [00:37<00:09,  9.14s/it]"
     ]
    },
    {
     "name": "stdout",
     "output_type": "stream",
     "text": [
      "Received response with tool calls: False\n",
      "No tool calls, returning final response\n",
      "Starting main span with messages: [{'role': 'user', 'content': 'What was the average transaction value?'}]\n",
      "Running agent with messages: [{'role': 'user', 'content': 'What was the average transaction value?'}]\n",
      "Starting router call span\n",
      "Received response with tool calls: True\n",
      "Starting tool calls span\n",
      "Starting router call span\n"
     ]
    },
    {
     "name": "stderr",
     "output_type": "stream",
     "text": [
      "Processing questions: 100%|██████████| 6/6 [00:39<00:00,  6.60s/it]"
     ]
    },
    {
     "name": "stdout",
     "output_type": "stream",
     "text": [
      "Received response with tool calls: False\n",
      "No tool calls, returning final response\n"
     ]
    },
    {
     "name": "stderr",
     "output_type": "stream",
     "text": [
      "\n"
     ]
    }
   ],
   "source": [
    "agent_questions = [\n",
    "    \"What was the most popular product SKU?\",\n",
    "    \"What was the total revenue across all stores?\",\n",
    "    \"Which store had the highest sales volume?\",\n",
    "    \"Create a bar chart showing total sales by store\",\n",
    "    \"What percentage of items were sold on promotion?\",\n",
    "    \"What was the average transaction value?\"\n",
    "]\n",
    "\n",
    "for question in tqdm(agent_questions, desc=\"Processing questions\"):\n",
    "    try:\n",
    "        ret = start_main_span([{\"role\": \"user\", \"content\": question}])\n",
    "    except Exception as e:\n",
    "        print(f\"Error processing question: {question}\")\n",
    "        print(e)\n",
    "        continue"
   ]
  },
  {
   "cell_type": "code",
   "execution_count": 19,
   "metadata": {},
   "outputs": [
    {
     "name": "stdout",
     "output_type": "stream",
     "text": [
      "http://localhost:6006/\n"
     ]
    }
   ],
   "source": [
    "print(get_phoenix_endpoint())"
   ]
  },
  {
   "cell_type": "code",
   "execution_count": 20,
   "metadata": {},
   "outputs": [
    {
     "name": "stdout",
     "output_type": "stream",
     "text": [
      "\n",
      "You are an evaluation assistant evaluating questions and tool calls to\n",
      "determine whether the tool called would answer the question. The tool\n",
      "calls have been generated by a separate agent, and chosen from the list of\n",
      "tools provided below. It is your job to decide whether that agent chose\n",
      "the right tool to call.\n",
      "\n",
      "    [BEGIN DATA]\n",
      "    ************\n",
      "    [Question]: {question}\n",
      "    ************\n",
      "    [Tool Called]: {tool_call}\n",
      "    [END DATA]\n",
      "\n",
      "Your response must be single word, either \"correct\" or \"incorrect\",\n",
      "and should not contain any text or characters aside from that word.\n",
      "\"incorrect\" means that the chosen tool would not answer the question,\n",
      "the tool includes information that is not presented in the question,\n",
      "or that the tool signature includes parameter values that don't match\n",
      "the formats specified in the tool signatures below.\n",
      "\n",
      "\"correct\" means the correct tool call was chosen, the correct parameters\n",
      "were extracted from the question, the tool call generated is runnable and correct,\n",
      "and that no outside information not present in the question was used\n",
      "in the generated question.\n",
      "\n",
      "    [Tool Definitions]: {tool_definitions}\n",
      "\n"
     ]
    }
   ],
   "source": [
    "print(TOOL_CALLING_PROMPT_TEMPLATE)"
   ]
  },
  {
   "cell_type": "code",
   "execution_count": 21,
   "metadata": {},
   "outputs": [
    {
     "data": {
      "text/html": [
       "<div>\n",
       "<style scoped>\n",
       "    .dataframe tbody tr th:only-of-type {\n",
       "        vertical-align: middle;\n",
       "    }\n",
       "\n",
       "    .dataframe tbody tr th {\n",
       "        vertical-align: top;\n",
       "    }\n",
       "\n",
       "    .dataframe thead th {\n",
       "        text-align: right;\n",
       "    }\n",
       "</style>\n",
       "<table border=\"1\" class=\"dataframe\">\n",
       "  <thead>\n",
       "    <tr style=\"text-align: right;\">\n",
       "      <th></th>\n",
       "      <th>question</th>\n",
       "      <th>tool_call</th>\n",
       "    </tr>\n",
       "    <tr>\n",
       "      <th>context.span_id</th>\n",
       "      <th></th>\n",
       "      <th></th>\n",
       "    </tr>\n",
       "  </thead>\n",
       "  <tbody>\n",
       "    <tr>\n",
       "      <th>49105c546aa1cfc1</th>\n",
       "      <td>{\"messages\": [{\"role\": \"user\", \"content\": \"Wha...</td>\n",
       "      <td>[{'tool': {'json_schema': '{\"type\": \"function\"...</td>\n",
       "    </tr>\n",
       "    <tr>\n",
       "      <th>639e0442d103f6f4</th>\n",
       "      <td>{\"messages\": [{\"role\": \"user\", \"content\": \"Wha...</td>\n",
       "      <td>[{'tool': {'json_schema': '{\"type\": \"function\"...</td>\n",
       "    </tr>\n",
       "    <tr>\n",
       "      <th>b64c710f90a00421</th>\n",
       "      <td>{\"messages\": [{\"role\": \"user\", \"content\": \"Wha...</td>\n",
       "      <td>[{'tool': {'json_schema': '{\"type\": \"function\"...</td>\n",
       "    </tr>\n",
       "    <tr>\n",
       "      <th>52ac4cf6c47bf098</th>\n",
       "      <td>{\"messages\": [{\"role\": \"user\", \"content\": \"Wha...</td>\n",
       "      <td>[{'tool': {'json_schema': '{\"type\": \"function\"...</td>\n",
       "    </tr>\n",
       "    <tr>\n",
       "      <th>45f0d1685eb04751</th>\n",
       "      <td>{\"messages\": [{\"role\": \"user\", \"content\": \"Whi...</td>\n",
       "      <td>[{'tool': {'json_schema': '{\"type\": \"function\"...</td>\n",
       "    </tr>\n",
       "  </tbody>\n",
       "</table>\n",
       "</div>"
      ],
      "text/plain": [
       "                                                           question  \\\n",
       "context.span_id                                                       \n",
       "49105c546aa1cfc1  {\"messages\": [{\"role\": \"user\", \"content\": \"Wha...   \n",
       "639e0442d103f6f4  {\"messages\": [{\"role\": \"user\", \"content\": \"Wha...   \n",
       "b64c710f90a00421  {\"messages\": [{\"role\": \"user\", \"content\": \"Wha...   \n",
       "52ac4cf6c47bf098  {\"messages\": [{\"role\": \"user\", \"content\": \"Wha...   \n",
       "45f0d1685eb04751  {\"messages\": [{\"role\": \"user\", \"content\": \"Whi...   \n",
       "\n",
       "                                                          tool_call  \n",
       "context.span_id                                                      \n",
       "49105c546aa1cfc1  [{'tool': {'json_schema': '{\"type\": \"function\"...  \n",
       "639e0442d103f6f4  [{'tool': {'json_schema': '{\"type\": \"function\"...  \n",
       "b64c710f90a00421  [{'tool': {'json_schema': '{\"type\": \"function\"...  \n",
       "52ac4cf6c47bf098  [{'tool': {'json_schema': '{\"type\": \"function\"...  \n",
       "45f0d1685eb04751  [{'tool': {'json_schema': '{\"type\": \"function\"...  "
      ]
     },
     "execution_count": 21,
     "metadata": {},
     "output_type": "execute_result"
    }
   ],
   "source": [
    "query = SpanQuery().where(\n",
    "    # Filter for the `LLM` span kind.\n",
    "    # The filter condition is a string of valid Python boolean expression.\n",
    "    \"span_kind == 'LLM'\",\n",
    ").select(\n",
    "    question=\"input.value\",\n",
    "    tool_call=\"llm.tools\"\n",
    ")\n",
    "\n",
    "# The Phoenix Client can take this query and return the dataframe.\n",
    "tool_calls_df = px.Client().query_spans(query, \n",
    "                                        project_name=PROJECT_NAME, \n",
    "                                        timeout=None)\n",
    "tool_calls_df = tool_calls_df.dropna(subset=[\"tool_call\"])\n",
    "\n",
    "tool_calls_df.head()"
   ]
  },
  {
   "cell_type": "code",
   "execution_count": null,
   "metadata": {},
   "outputs": [
    {
     "name": "stderr",
     "output_type": "stream",
     "text": [
      "/var/folders/bc/n01xvrcj1rs6g7xjbdfndlh00000gn/T/ipykernel_6994/3014544258.py:2: DeprecationWarning: `dataframe` argument is deprecated; use `data` instead\n",
      "  tool_call_eval = llm_classify(\n"
     ]
    },
    {
     "data": {
      "application/vnd.jupyter.widget-view+json": {
       "model_id": "d034dabcf73042cb9105a9782da1da46",
       "version_major": 2,
       "version_minor": 0
      },
      "text/plain": [
       "llm_classify |          | 0/14 (0.0%) | ⏳ 00:00<? | ?it/s"
      ]
     },
     "metadata": {},
     "output_type": "display_data"
    },
    {
     "data": {
      "text/html": [
       "<div>\n",
       "<style scoped>\n",
       "    .dataframe tbody tr th:only-of-type {\n",
       "        vertical-align: middle;\n",
       "    }\n",
       "\n",
       "    .dataframe tbody tr th {\n",
       "        vertical-align: top;\n",
       "    }\n",
       "\n",
       "    .dataframe thead th {\n",
       "        text-align: right;\n",
       "    }\n",
       "</style>\n",
       "<table border=\"1\" class=\"dataframe\">\n",
       "  <thead>\n",
       "    <tr style=\"text-align: right;\">\n",
       "      <th></th>\n",
       "      <th>label</th>\n",
       "      <th>explanation</th>\n",
       "      <th>exceptions</th>\n",
       "      <th>execution_status</th>\n",
       "      <th>execution_seconds</th>\n",
       "      <th>score</th>\n",
       "    </tr>\n",
       "    <tr>\n",
       "      <th>context.span_id</th>\n",
       "      <th></th>\n",
       "      <th></th>\n",
       "      <th></th>\n",
       "      <th></th>\n",
       "      <th></th>\n",
       "      <th></th>\n",
       "    </tr>\n",
       "  </thead>\n",
       "  <tbody>\n",
       "    <tr>\n",
       "      <th>49105c546aa1cfc1</th>\n",
       "      <td>correct</td>\n",
       "      <td>The question asks for the most popular product...</td>\n",
       "      <td>[]</td>\n",
       "      <td>COMPLETED</td>\n",
       "      <td>1.790319</td>\n",
       "      <td>1</td>\n",
       "    </tr>\n",
       "    <tr>\n",
       "      <th>639e0442d103f6f4</th>\n",
       "      <td>correct</td>\n",
       "      <td>The question asks for the most popular product...</td>\n",
       "      <td>[]</td>\n",
       "      <td>COMPLETED</td>\n",
       "      <td>1.795623</td>\n",
       "      <td>1</td>\n",
       "    </tr>\n",
       "    <tr>\n",
       "      <th>b64c710f90a00421</th>\n",
       "      <td>incorrect</td>\n",
       "      <td>The question asks for the total revenue across...</td>\n",
       "      <td>[]</td>\n",
       "      <td>COMPLETED</td>\n",
       "      <td>2.161522</td>\n",
       "      <td>0</td>\n",
       "    </tr>\n",
       "    <tr>\n",
       "      <th>52ac4cf6c47bf098</th>\n",
       "      <td>correct</td>\n",
       "      <td>The question asks for the total revenue across...</td>\n",
       "      <td>[]</td>\n",
       "      <td>COMPLETED</td>\n",
       "      <td>1.792517</td>\n",
       "      <td>1</td>\n",
       "    </tr>\n",
       "    <tr>\n",
       "      <th>45f0d1685eb04751</th>\n",
       "      <td>correct</td>\n",
       "      <td>The question asks for the store with the highe...</td>\n",
       "      <td>[]</td>\n",
       "      <td>COMPLETED</td>\n",
       "      <td>2.350475</td>\n",
       "      <td>1</td>\n",
       "    </tr>\n",
       "  </tbody>\n",
       "</table>\n",
       "</div>"
      ],
      "text/plain": [
       "                      label  \\\n",
       "context.span_id               \n",
       "49105c546aa1cfc1    correct   \n",
       "639e0442d103f6f4    correct   \n",
       "b64c710f90a00421  incorrect   \n",
       "52ac4cf6c47bf098    correct   \n",
       "45f0d1685eb04751    correct   \n",
       "\n",
       "                                                        explanation  \\\n",
       "context.span_id                                                       \n",
       "49105c546aa1cfc1  The question asks for the most popular product...   \n",
       "639e0442d103f6f4  The question asks for the most popular product...   \n",
       "b64c710f90a00421  The question asks for the total revenue across...   \n",
       "52ac4cf6c47bf098  The question asks for the total revenue across...   \n",
       "45f0d1685eb04751  The question asks for the store with the highe...   \n",
       "\n",
       "                 exceptions execution_status  execution_seconds  score  \n",
       "context.span_id                                                         \n",
       "49105c546aa1cfc1         []        COMPLETED           1.790319      1  \n",
       "639e0442d103f6f4         []        COMPLETED           1.795623      1  \n",
       "b64c710f90a00421         []        COMPLETED           2.161522      0  \n",
       "52ac4cf6c47bf098         []        COMPLETED           1.792517      1  \n",
       "45f0d1685eb04751         []        COMPLETED           2.350475      1  "
      ]
     },
     "execution_count": 22,
     "metadata": {},
     "output_type": "execute_result"
    }
   ],
   "source": [
    "# add labels to the dataframe\n",
    "\n",
    "with suppress_tracing(): # suppress tracing for this block that no trace is created for this nlock\n",
    "    tool_call_eval = llm_classify(\n",
    "        dataframe = tool_calls_df, # add to this rail\n",
    "        template = TOOL_CALLING_PROMPT_TEMPLATE.template[0].template.replace(\"{tool_definitions}\", \n",
    "                                                                 json.dumps(tools).replace(\"{\", '\"').replace(\"}\", '\"')), # use this frame \n",
    "                                                                 # as template amd comnvret the tools to json\n",
    "        rails = ['correct', 'incorrect'], # use these rails as labels\n",
    "        model=OpenAIModel(model=\"gpt-4o\"), # use this model\n",
    "        provide_explanation=True # provide explanation\n",
    "    )\n",
    "\n",
    "tool_call_eval['score'] = tool_call_eval.apply(lambda x: 1 if x['label']=='correct' else 0, axis=1)\n",
    "# add numerical score to the dataframe\n",
    "\n",
    "tool_call_eval.head()"
   ]
  },
  {
   "cell_type": "code",
   "execution_count": 23,
   "metadata": {},
   "outputs": [],
   "source": [
    "px.Client().log_evaluations(\n",
    "    SpanEvaluations(eval_name=\"Tool Calling Eval\", dataframe=tool_call_eval),\n",
    ")"
   ]
  },
  {
   "cell_type": "code",
   "execution_count": 24,
   "metadata": {},
   "outputs": [
    {
     "data": {
      "text/html": [
       "<div>\n",
       "<style scoped>\n",
       "    .dataframe tbody tr th:only-of-type {\n",
       "        vertical-align: middle;\n",
       "    }\n",
       "\n",
       "    .dataframe tbody tr th {\n",
       "        vertical-align: top;\n",
       "    }\n",
       "\n",
       "    .dataframe thead th {\n",
       "        text-align: right;\n",
       "    }\n",
       "</style>\n",
       "<table border=\"1\" class=\"dataframe\">\n",
       "  <thead>\n",
       "    <tr style=\"text-align: right;\">\n",
       "      <th></th>\n",
       "      <th>generated_code</th>\n",
       "    </tr>\n",
       "    <tr>\n",
       "      <th>context.span_id</th>\n",
       "      <th></th>\n",
       "    </tr>\n",
       "  </thead>\n",
       "  <tbody>\n",
       "    <tr>\n",
       "      <th>7db8d127b1e30af5</th>\n",
       "      <td>import pandas as pd\\nimport matplotlib.pyplot ...</td>\n",
       "    </tr>\n",
       "  </tbody>\n",
       "</table>\n",
       "</div>"
      ],
      "text/plain": [
       "                                                     generated_code\n",
       "context.span_id                                                    \n",
       "7db8d127b1e30af5  import pandas as pd\\nimport matplotlib.pyplot ..."
      ]
     },
     "execution_count": 24,
     "metadata": {},
     "output_type": "execute_result"
    }
   ],
   "source": [
    "query = SpanQuery().where(\n",
    "    \"name =='generate_visualization'\"\n",
    ").select(\n",
    "    generated_code=\"output.value\"\n",
    ")\n",
    "\n",
    "# The Phoenix Client can take this query and return the dataframe.\n",
    "code_gen_df = px.Client().query_spans(query, \n",
    "                                      project_name=PROJECT_NAME, \n",
    "                                      timeout=None)\n",
    "\n",
    "code_gen_df.head()"
   ]
  },
  {
   "cell_type": "code",
   "execution_count": 25,
   "metadata": {},
   "outputs": [],
   "source": [
    "def code_is_runnable(output: str) -> bool:\n",
    "    \"\"\"Check if the code is runnable\"\"\"\n",
    "    output = output.strip()\n",
    "    output = output.replace(\"```python\", \"\").replace(\"```\", \"\")\n",
    "    try:\n",
    "        exec(output)\n",
    "        return True\n",
    "    except Exception as e:\n",
    "        return False"
   ]
  },
  {
   "cell_type": "code",
   "execution_count": 26,
   "metadata": {},
   "outputs": [
    {
     "data": {
      "image/png": "[encoded data removed]",
      "text/plain": [
       "<Figure size 1000x500 with 1 Axes>"
      ]
     },
     "metadata": {},
     "output_type": "display_data"
    }
   ],
   "source": [
    "code_gen_df[\"label\"] = code_gen_df[\"generated_code\"].apply(code_is_runnable).map({True: \"runnable\", False: \"not_runnable\"})\n",
    "code_gen_df[\"score\"] = code_gen_df[\"label\"].map({\"runnable\": 1, \"not_runnable\": 0})\n"
   ]
  },
  {
   "cell_type": "code",
   "execution_count": 27,
   "metadata": {},
   "outputs": [
    {
     "data": {
      "text/html": [
       "<div>\n",
       "<style scoped>\n",
       "    .dataframe tbody tr th:only-of-type {\n",
       "        vertical-align: middle;\n",
       "    }\n",
       "\n",
       "    .dataframe tbody tr th {\n",
       "        vertical-align: top;\n",
       "    }\n",
       "\n",
       "    .dataframe thead th {\n",
       "        text-align: right;\n",
       "    }\n",
       "</style>\n",
       "<table border=\"1\" class=\"dataframe\">\n",
       "  <thead>\n",
       "    <tr style=\"text-align: right;\">\n",
       "      <th></th>\n",
       "      <th>generated_code</th>\n",
       "      <th>label</th>\n",
       "      <th>score</th>\n",
       "    </tr>\n",
       "    <tr>\n",
       "      <th>context.span_id</th>\n",
       "      <th></th>\n",
       "      <th></th>\n",
       "      <th></th>\n",
       "    </tr>\n",
       "  </thead>\n",
       "  <tbody>\n",
       "    <tr>\n",
       "      <th>7db8d127b1e30af5</th>\n",
       "      <td>import pandas as pd\\nimport matplotlib.pyplot ...</td>\n",
       "      <td>runnable</td>\n",
       "      <td>1</td>\n",
       "    </tr>\n",
       "  </tbody>\n",
       "</table>\n",
       "</div>"
      ],
      "text/plain": [
       "                                                     generated_code     label  \\\n",
       "context.span_id                                                                 \n",
       "7db8d127b1e30af5  import pandas as pd\\nimport matplotlib.pyplot ...  runnable   \n",
       "\n",
       "                  score  \n",
       "context.span_id          \n",
       "7db8d127b1e30af5      1  "
      ]
     },
     "execution_count": 27,
     "metadata": {},
     "output_type": "execute_result"
    }
   ],
   "source": [
    "code_gen_df.head()"
   ]
  },
  {
   "cell_type": "code",
   "execution_count": 28,
   "metadata": {},
   "outputs": [],
   "source": [
    "px.Client().log_evaluations(\n",
    "    SpanEvaluations(eval_name=\"Runnable Code Eval\", dataframe=code_gen_df),\n",
    ")"
   ]
  },
  {
   "cell_type": "code",
   "execution_count": 29,
   "metadata": {},
   "outputs": [],
   "source": [
    "CLARITY_LLM_JUDGE_PROMPT = \"\"\"\n",
    "In this task, you will be presented with a query and an answer. Your objective is to evaluate the clarity \n",
    "of the answer in addressing the query. A clear response is one that is precise, coherent, and directly \n",
    "addresses the query without introducing unnecessary complexity or ambiguity. An unclear response is one \n",
    "that is vague, disorganized, or difficult to understand, even if it may be factually correct.\n",
    "\n",
    "Your response should be a single word: either \"clear\" or \"unclear,\" and it should not include any other \n",
    "text or characters. \"clear\" indicates that the answer is well-structured, easy to understand, and \n",
    "appropriately addresses the query. \"unclear\" indicates that some part of the response could be better \n",
    "structured or worded.\n",
    "Please carefully consider the query and answer before determining your response.\n",
    "\n",
    "After analyzing the query and the answer, you must write a detailed explanation of your reasoning to \n",
    "justify why you chose either \"clear\" or \"unclear.\" Avoid stating the final label at the beginning of your \n",
    "explanation. Your reasoning should include specific points about how the answer does or does not meet the \n",
    "criteria for clarity.\n",
    "\n",
    "[BEGIN DATA]\n",
    "Query: {query}\n",
    "Answer: {response}\n",
    "[END DATA]\n",
    "Please analyze the data carefully and provide an explanation followed by your response.\n",
    "\n",
    "EXPLANATION: Provide your reasoning step by step, evaluating the clarity of the answer based on the query.\n",
    "LABEL: \"clear\" or \"unclear\"\n",
    "\"\"\""
   ]
  },
  {
   "cell_type": "code",
   "execution_count": 32,
   "metadata": {},
   "outputs": [
    {
     "data": {
      "text/html": [
       "<div>\n",
       "<style scoped>\n",
       "    .dataframe tbody tr th:only-of-type {\n",
       "        vertical-align: middle;\n",
       "    }\n",
       "\n",
       "    .dataframe tbody tr th {\n",
       "        vertical-align: top;\n",
       "    }\n",
       "\n",
       "    .dataframe thead th {\n",
       "        text-align: right;\n",
       "    }\n",
       "</style>\n",
       "<table border=\"1\" class=\"dataframe\">\n",
       "  <thead>\n",
       "    <tr style=\"text-align: right;\">\n",
       "      <th></th>\n",
       "      <th>response</th>\n",
       "      <th>query</th>\n",
       "    </tr>\n",
       "    <tr>\n",
       "      <th>context.span_id</th>\n",
       "      <th></th>\n",
       "      <th></th>\n",
       "    </tr>\n",
       "  </thead>\n",
       "  <tbody>\n",
       "    <tr>\n",
       "      <th>dedb2c39ba13f9ef</th>\n",
       "      <td>The most popular product SKU was **6200700**, ...</td>\n",
       "      <td>[{\"role\": \"user\", \"content\": \"What was the mos...</td>\n",
       "    </tr>\n",
       "    <tr>\n",
       "      <th>7bb626a4b3b0397c</th>\n",
       "      <td>The total revenue across all stores was approx...</td>\n",
       "      <td>[{\"role\": \"user\", \"content\": \"What was the tot...</td>\n",
       "    </tr>\n",
       "    <tr>\n",
       "      <th>30b2214ce4aa4bbb</th>\n",
       "      <td>The store with the highest sales volume is Sto...</td>\n",
       "      <td>[{\"role\": \"user\", \"content\": \"Which store had ...</td>\n",
       "    </tr>\n",
       "    <tr>\n",
       "      <th>651b37f057464b7f</th>\n",
       "      <td>Here's the bar chart showing total sales by st...</td>\n",
       "      <td>[{\"role\": \"user\", \"content\": \"Create a bar cha...</td>\n",
       "    </tr>\n",
       "    <tr>\n",
       "      <th>ac61deada5f01a2f</th>\n",
       "      <td>Approximately 2.63% of items were sold on prom...</td>\n",
       "      <td>[{\"role\": \"user\", \"content\": \"What percentage ...</td>\n",
       "    </tr>\n",
       "  </tbody>\n",
       "</table>\n",
       "</div>"
      ],
      "text/plain": [
       "                                                           response  \\\n",
       "context.span_id                                                       \n",
       "dedb2c39ba13f9ef  The most popular product SKU was **6200700**, ...   \n",
       "7bb626a4b3b0397c  The total revenue across all stores was approx...   \n",
       "30b2214ce4aa4bbb  The store with the highest sales volume is Sto...   \n",
       "651b37f057464b7f  Here's the bar chart showing total sales by st...   \n",
       "ac61deada5f01a2f  Approximately 2.63% of items were sold on prom...   \n",
       "\n",
       "                                                              query  \n",
       "context.span_id                                                      \n",
       "dedb2c39ba13f9ef  [{\"role\": \"user\", \"content\": \"What was the mos...  \n",
       "7bb626a4b3b0397c  [{\"role\": \"user\", \"content\": \"What was the tot...  \n",
       "30b2214ce4aa4bbb  [{\"role\": \"user\", \"content\": \"Which store had ...  \n",
       "651b37f057464b7f  [{\"role\": \"user\", \"content\": \"Create a bar cha...  \n",
       "ac61deada5f01a2f  [{\"role\": \"user\", \"content\": \"What percentage ...  "
      ]
     },
     "execution_count": 32,
     "metadata": {},
     "output_type": "execute_result"
    }
   ],
   "source": [
    "query = SpanQuery().where(\n",
    "    \"span_kind=='AGENT'\"\n",
    ").select(\n",
    "    response=\"output.value\",\n",
    "    query=\"input.value\"\n",
    ")\n",
    "\n",
    "# The Phoenix Client can take this query and return the dataframe.\n",
    "clarity_df = px.Client().query_spans(query, \n",
    "                                     project_name=PROJECT_NAME,\n",
    "                                     timeout=None)\n",
    "\n",
    "clarity_df.head()"
   ]
  },
  {
   "cell_type": "code",
   "execution_count": 33,
   "metadata": {},
   "outputs": [
    {
     "name": "stderr",
     "output_type": "stream",
     "text": [
      "/var/folders/bc/n01xvrcj1rs6g7xjbdfndlh00000gn/T/ipykernel_6994/2155058494.py:2: DeprecationWarning: `dataframe` argument is deprecated; use `data` instead\n",
      "  clarity_eval = llm_classify(\n"
     ]
    },
    {
     "data": {
      "application/vnd.jupyter.widget-view+json": {
       "model_id": "e953a28d4528498aa259c71a27e5f354",
       "version_major": 2,
       "version_minor": 0
      },
      "text/plain": [
       "llm_classify |          | 0/6 (0.0%) | ⏳ 00:00<? | ?it/s"
      ]
     },
     "metadata": {},
     "output_type": "display_data"
    },
    {
     "data": {
      "text/html": [
       "<div>\n",
       "<style scoped>\n",
       "    .dataframe tbody tr th:only-of-type {\n",
       "        vertical-align: middle;\n",
       "    }\n",
       "\n",
       "    .dataframe tbody tr th {\n",
       "        vertical-align: top;\n",
       "    }\n",
       "\n",
       "    .dataframe thead th {\n",
       "        text-align: right;\n",
       "    }\n",
       "</style>\n",
       "<table border=\"1\" class=\"dataframe\">\n",
       "  <thead>\n",
       "    <tr style=\"text-align: right;\">\n",
       "      <th></th>\n",
       "      <th>label</th>\n",
       "      <th>explanation</th>\n",
       "      <th>exceptions</th>\n",
       "      <th>execution_status</th>\n",
       "      <th>execution_seconds</th>\n",
       "      <th>score</th>\n",
       "    </tr>\n",
       "    <tr>\n",
       "      <th>context.span_id</th>\n",
       "      <th></th>\n",
       "      <th></th>\n",
       "      <th></th>\n",
       "      <th></th>\n",
       "      <th></th>\n",
       "      <th></th>\n",
       "    </tr>\n",
       "  </thead>\n",
       "  <tbody>\n",
       "    <tr>\n",
       "      <th>dedb2c39ba13f9ef</th>\n",
       "      <td>clear</td>\n",
       "      <td>The query asks for the most popular product SK...</td>\n",
       "      <td>[]</td>\n",
       "      <td>COMPLETED</td>\n",
       "      <td>2.374768</td>\n",
       "      <td>1</td>\n",
       "    </tr>\n",
       "    <tr>\n",
       "      <th>7bb626a4b3b0397c</th>\n",
       "      <td>clear</td>\n",
       "      <td>The query asks for the total revenue across al...</td>\n",
       "      <td>[]</td>\n",
       "      <td>COMPLETED</td>\n",
       "      <td>2.187710</td>\n",
       "      <td>1</td>\n",
       "    </tr>\n",
       "    <tr>\n",
       "      <th>30b2214ce4aa4bbb</th>\n",
       "      <td>clear</td>\n",
       "      <td>The query asks for the store with the highest ...</td>\n",
       "      <td>[]</td>\n",
       "      <td>COMPLETED</td>\n",
       "      <td>2.188567</td>\n",
       "      <td>1</td>\n",
       "    </tr>\n",
       "    <tr>\n",
       "      <th>651b37f057464b7f</th>\n",
       "      <td>clear</td>\n",
       "      <td>The query asks for a bar chart showing total s...</td>\n",
       "      <td>[]</td>\n",
       "      <td>COMPLETED</td>\n",
       "      <td>4.201361</td>\n",
       "      <td>1</td>\n",
       "    </tr>\n",
       "    <tr>\n",
       "      <th>ac61deada5f01a2f</th>\n",
       "      <td>clear</td>\n",
       "      <td>The query asks for the percentage of items sol...</td>\n",
       "      <td>[]</td>\n",
       "      <td>COMPLETED</td>\n",
       "      <td>2.700072</td>\n",
       "      <td>1</td>\n",
       "    </tr>\n",
       "  </tbody>\n",
       "</table>\n",
       "</div>"
      ],
      "text/plain": [
       "                  label                                        explanation  \\\n",
       "context.span_id                                                              \n",
       "dedb2c39ba13f9ef  clear  The query asks for the most popular product SK...   \n",
       "7bb626a4b3b0397c  clear  The query asks for the total revenue across al...   \n",
       "30b2214ce4aa4bbb  clear  The query asks for the store with the highest ...   \n",
       "651b37f057464b7f  clear  The query asks for a bar chart showing total s...   \n",
       "ac61deada5f01a2f  clear  The query asks for the percentage of items sol...   \n",
       "\n",
       "                 exceptions execution_status  execution_seconds  score  \n",
       "context.span_id                                                         \n",
       "dedb2c39ba13f9ef         []        COMPLETED           2.374768      1  \n",
       "7bb626a4b3b0397c         []        COMPLETED           2.187710      1  \n",
       "30b2214ce4aa4bbb         []        COMPLETED           2.188567      1  \n",
       "651b37f057464b7f         []        COMPLETED           4.201361      1  \n",
       "ac61deada5f01a2f         []        COMPLETED           2.700072      1  "
      ]
     },
     "execution_count": 33,
     "metadata": {},
     "output_type": "execute_result"
    }
   ],
   "source": [
    "with suppress_tracing():\n",
    "    clarity_eval = llm_classify(\n",
    "        dataframe = clarity_df,\n",
    "        template = CLARITY_LLM_JUDGE_PROMPT,\n",
    "        rails = ['clear', 'unclear'],\n",
    "        model=OpenAIModel(model=\"gpt-4o\"),\n",
    "        provide_explanation=True\n",
    "    )\n",
    "\n",
    "clarity_eval['score'] = clarity_eval.apply(lambda x: 1 if x['label']=='clear' else 0, axis=1)\n",
    "\n",
    "clarity_eval.head()"
   ]
  },
  {
   "cell_type": "code",
   "execution_count": 34,
   "metadata": {},
   "outputs": [],
   "source": [
    "px.Client().log_evaluations(\n",
    "    SpanEvaluations(eval_name=\"Response Clarity\", dataframe=clarity_eval),\n",
    ")"
   ]
  },
  {
   "cell_type": "code",
   "execution_count": 35,
   "metadata": {},
   "outputs": [],
   "source": [
    "SQL_EVAL_GEN_PROMPT = \"\"\"\n",
    "SQL Evaluation Prompt:\n",
    "-----------------------\n",
    "You are tasked with determining if the SQL generated appropiately answers a given instruction\n",
    "taking into account its generated query and response.\n",
    "\n",
    "Data:\n",
    "-----\n",
    "- [Instruction]: {question}\n",
    "  This section contains the specific task or problem that the sql query is intended to solve.\n",
    "\n",
    "- [Reference Query]: {query_gen}\n",
    "  This is the sql query submitted for evaluation. Analyze it in the context of the provided\n",
    "  instruction.\n",
    "\n",
    "Evaluation:\n",
    "-----------\n",
    "Your response should be a single word: either \"correct\" or \"incorrect\".\n",
    "You must assume that the db exists and that columns are appropiately named.\n",
    "You must take into account the response as additional information to determine the correctness.\n",
    "\n",
    "- \"correct\" indicates that the sql query correctly solves the instruction.\n",
    "- \"incorrect\" indicates that the sql query correctly does not solve the instruction correctly.\n",
    "\n",
    "Note: Your response should contain only the word \"correct\" or \"incorrect\" with no additional text\n",
    "or characters.\n",
    "\"\"\""
   ]
  },
  {
   "cell_type": "code",
   "execution_count": 36,
   "metadata": {},
   "outputs": [
    {
     "data": {
      "text/html": [
       "<div>\n",
       "<style scoped>\n",
       "    .dataframe tbody tr th:only-of-type {\n",
       "        vertical-align: middle;\n",
       "    }\n",
       "\n",
       "    .dataframe tbody tr th {\n",
       "        vertical-align: top;\n",
       "    }\n",
       "\n",
       "    .dataframe thead th {\n",
       "        text-align: right;\n",
       "    }\n",
       "</style>\n",
       "<table border=\"1\" class=\"dataframe\">\n",
       "  <thead>\n",
       "    <tr style=\"text-align: right;\">\n",
       "      <th></th>\n",
       "      <th>query_gen</th>\n",
       "      <th>question</th>\n",
       "    </tr>\n",
       "    <tr>\n",
       "      <th>context.span_id</th>\n",
       "      <th></th>\n",
       "      <th></th>\n",
       "    </tr>\n",
       "  </thead>\n",
       "  <tbody>\n",
       "    <tr>\n",
       "      <th>2b8165c5365d4d60</th>\n",
       "      <td>[{'message': {'content': '```sql\n",
       "SELECT SKU_Co...</td>\n",
       "      <td>{\"messages\": [{\"role\": \"user\", \"content\": \"\\nG...</td>\n",
       "    </tr>\n",
       "    <tr>\n",
       "      <th>d21d4af74bc66f1a</th>\n",
       "      <td>[{'message': {'content': '```sql\n",
       "SELECT SUM(To...</td>\n",
       "      <td>{\"messages\": [{\"role\": \"user\", \"content\": \"\\nG...</td>\n",
       "    </tr>\n",
       "    <tr>\n",
       "      <th>617c0012f1e0327c</th>\n",
       "      <td>[{'message': {'content': '```sql\n",
       "SELECT Store_...</td>\n",
       "      <td>{\"messages\": [{\"role\": \"user\", \"content\": \"\\nG...</td>\n",
       "    </tr>\n",
       "    <tr>\n",
       "      <th>eed356543d07f57e</th>\n",
       "      <td>[{'message': {'content': '```sql\n",
       "SELECT Store_...</td>\n",
       "      <td>{\"messages\": [{\"role\": \"user\", \"content\": \"\\nG...</td>\n",
       "    </tr>\n",
       "    <tr>\n",
       "      <th>f18d8d2e9f1cc2d9</th>\n",
       "      <td>[{'message': {'content': '```sql\n",
       "SELECT \n",
       "    (...</td>\n",
       "      <td>{\"messages\": [{\"role\": \"user\", \"content\": \"\\nG...</td>\n",
       "    </tr>\n",
       "  </tbody>\n",
       "</table>\n",
       "</div>"
      ],
      "text/plain": [
       "                                                          query_gen  \\\n",
       "context.span_id                                                       \n",
       "2b8165c5365d4d60  [{'message': {'content': '```sql\n",
       "SELECT SKU_Co...   \n",
       "d21d4af74bc66f1a  [{'message': {'content': '```sql\n",
       "SELECT SUM(To...   \n",
       "617c0012f1e0327c  [{'message': {'content': '```sql\n",
       "SELECT Store_...   \n",
       "eed356543d07f57e  [{'message': {'content': '```sql\n",
       "SELECT Store_...   \n",
       "f18d8d2e9f1cc2d9  [{'message': {'content': '```sql\n",
       "SELECT \n",
       "    (...   \n",
       "\n",
       "                                                           question  \n",
       "context.span_id                                                      \n",
       "2b8165c5365d4d60  {\"messages\": [{\"role\": \"user\", \"content\": \"\\nG...  \n",
       "d21d4af74bc66f1a  {\"messages\": [{\"role\": \"user\", \"content\": \"\\nG...  \n",
       "617c0012f1e0327c  {\"messages\": [{\"role\": \"user\", \"content\": \"\\nG...  \n",
       "eed356543d07f57e  {\"messages\": [{\"role\": \"user\", \"content\": \"\\nG...  \n",
       "f18d8d2e9f1cc2d9  {\"messages\": [{\"role\": \"user\", \"content\": \"\\nG...  "
      ]
     },
     "execution_count": 36,
     "metadata": {},
     "output_type": "execute_result"
    }
   ],
   "source": [
    "query = SpanQuery().where(\n",
    "    \"span_kind=='LLM'\"\n",
    ").select(\n",
    "    query_gen=\"llm.output_messages\",\n",
    "    question=\"input.value\",\n",
    ")\n",
    "\n",
    "# The Phoenix Client can take this query and return the dataframe.\n",
    "sql_df = px.Client().query_spans(query, \n",
    "                                 project_name=PROJECT_NAME,\n",
    "                                 timeout=None)\n",
    "sql_df = sql_df[sql_df[\"question\"].str.contains(\"Generate an SQL query based on a prompt.\", na=False)]\n",
    "\n",
    "sql_df.head()"
   ]
  },
  {
   "cell_type": "code",
   "execution_count": 37,
   "metadata": {},
   "outputs": [
    {
     "name": "stderr",
     "output_type": "stream",
     "text": [
      "/var/folders/bc/n01xvrcj1rs6g7xjbdfndlh00000gn/T/ipykernel_6994/3166322101.py:2: DeprecationWarning: `dataframe` argument is deprecated; use `data` instead\n",
      "  sql_gen_eval = llm_classify(\n"
     ]
    },
    {
     "data": {
      "application/vnd.jupyter.widget-view+json": {
       "model_id": "efe82e53f50b4231b6f76a9b42b8433f",
       "version_major": 2,
       "version_minor": 0
      },
      "text/plain": [
       "llm_classify |          | 0/7 (0.0%) | ⏳ 00:00<? | ?it/s"
      ]
     },
     "metadata": {},
     "output_type": "display_data"
    },
    {
     "data": {
      "text/html": [
       "<div>\n",
       "<style scoped>\n",
       "    .dataframe tbody tr th:only-of-type {\n",
       "        vertical-align: middle;\n",
       "    }\n",
       "\n",
       "    .dataframe tbody tr th {\n",
       "        vertical-align: top;\n",
       "    }\n",
       "\n",
       "    .dataframe thead th {\n",
       "        text-align: right;\n",
       "    }\n",
       "</style>\n",
       "<table border=\"1\" class=\"dataframe\">\n",
       "  <thead>\n",
       "    <tr style=\"text-align: right;\">\n",
       "      <th></th>\n",
       "      <th>label</th>\n",
       "      <th>explanation</th>\n",
       "      <th>exceptions</th>\n",
       "      <th>execution_status</th>\n",
       "      <th>execution_seconds</th>\n",
       "      <th>score</th>\n",
       "    </tr>\n",
       "    <tr>\n",
       "      <th>context.span_id</th>\n",
       "      <th></th>\n",
       "      <th></th>\n",
       "      <th></th>\n",
       "      <th></th>\n",
       "      <th></th>\n",
       "      <th></th>\n",
       "    </tr>\n",
       "  </thead>\n",
       "  <tbody>\n",
       "    <tr>\n",
       "      <th>2b8165c5365d4d60</th>\n",
       "      <td>correct</td>\n",
       "      <td>The task is to find the most popular product S...</td>\n",
       "      <td>[]</td>\n",
       "      <td>COMPLETED</td>\n",
       "      <td>3.605605</td>\n",
       "      <td>1</td>\n",
       "    </tr>\n",
       "    <tr>\n",
       "      <th>d21d4af74bc66f1a</th>\n",
       "      <td>correct</td>\n",
       "      <td>The SQL query provided is `SELECT SUM(Total_Sa...</td>\n",
       "      <td>[]</td>\n",
       "      <td>COMPLETED</td>\n",
       "      <td>1.988100</td>\n",
       "      <td>1</td>\n",
       "    </tr>\n",
       "    <tr>\n",
       "      <th>617c0012f1e0327c</th>\n",
       "      <td>correct</td>\n",
       "      <td>The SQL query provided calculates the total sa...</td>\n",
       "      <td>[]</td>\n",
       "      <td>COMPLETED</td>\n",
       "      <td>1.899668</td>\n",
       "      <td>1</td>\n",
       "    </tr>\n",
       "    <tr>\n",
       "      <th>eed356543d07f57e</th>\n",
       "      <td>correct</td>\n",
       "      <td>The SQL query provided correctly calculates th...</td>\n",
       "      <td>[]</td>\n",
       "      <td>COMPLETED</td>\n",
       "      <td>1.985965</td>\n",
       "      <td>1</td>\n",
       "    </tr>\n",
       "    <tr>\n",
       "      <th>f18d8d2e9f1cc2d9</th>\n",
       "      <td>correct</td>\n",
       "      <td>The SQL query calculates the percentage of ite...</td>\n",
       "      <td>[]</td>\n",
       "      <td>COMPLETED</td>\n",
       "      <td>2.527998</td>\n",
       "      <td>1</td>\n",
       "    </tr>\n",
       "  </tbody>\n",
       "</table>\n",
       "</div>"
      ],
      "text/plain": [
       "                    label                                        explanation  \\\n",
       "context.span_id                                                                \n",
       "2b8165c5365d4d60  correct  The task is to find the most popular product S...   \n",
       "d21d4af74bc66f1a  correct  The SQL query provided is `SELECT SUM(Total_Sa...   \n",
       "617c0012f1e0327c  correct  The SQL query provided calculates the total sa...   \n",
       "eed356543d07f57e  correct  The SQL query provided correctly calculates th...   \n",
       "f18d8d2e9f1cc2d9  correct  The SQL query calculates the percentage of ite...   \n",
       "\n",
       "                 exceptions execution_status  execution_seconds  score  \n",
       "context.span_id                                                         \n",
       "2b8165c5365d4d60         []        COMPLETED           3.605605      1  \n",
       "d21d4af74bc66f1a         []        COMPLETED           1.988100      1  \n",
       "617c0012f1e0327c         []        COMPLETED           1.899668      1  \n",
       "eed356543d07f57e         []        COMPLETED           1.985965      1  \n",
       "f18d8d2e9f1cc2d9         []        COMPLETED           2.527998      1  "
      ]
     },
     "execution_count": 37,
     "metadata": {},
     "output_type": "execute_result"
    }
   ],
   "source": [
    "with suppress_tracing():\n",
    "    sql_gen_eval = llm_classify(\n",
    "        dataframe = sql_df,\n",
    "        template = SQL_EVAL_GEN_PROMPT,\n",
    "        rails = ['correct', 'incorrect'],\n",
    "        model=OpenAIModel(model=\"gpt-4o\"),\n",
    "        provide_explanation=True\n",
    "    )\n",
    "\n",
    "sql_gen_eval['score'] = sql_gen_eval.apply(lambda x: 1 if x['label']=='correct' else 0, axis=1)\n",
    "\n",
    "sql_gen_eval.head()"
   ]
  },
  {
   "cell_type": "code",
   "execution_count": 38,
   "metadata": {},
   "outputs": [],
   "source": [
    "px.Client().log_evaluations(\n",
    "    SpanEvaluations(eval_name=\"SQL Gen Eval\", dataframe=sql_gen_eval),\n",
    ")"
   ]
  },
  {
   "cell_type": "code",
   "execution_count": null,
   "metadata": {},
   "outputs": [],
   "source": []
  }
 ],
 "metadata": {
  "kernelspec": {
   "display_name": "Python (studies)",
   "language": "python",
   "name": "studies"
  },
  "language_info": {
   "codemirror_mode": {
    "name": "ipython",
    "version": 3
   },
   "file_extension": ".py",
   "mimetype": "text/x-python",
   "name": "python",
   "nbconvert_exporter": "python",
   "pygments_lexer": "ipython3",
   "version": "3.12.9"
  }
 },
 "nbformat": 4,
 "nbformat_minor": 2
}
