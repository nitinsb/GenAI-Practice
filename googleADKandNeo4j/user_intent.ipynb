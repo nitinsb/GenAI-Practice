{
 "cells": [
  {
   "cell_type": "code",
   "execution_count": 1,
   "id": "8ce54f77",
   "metadata": {},
   "outputs": [
    {
     "name": "stdout",
     "output_type": "stream",
     "text": [
      "Libraries imported.\n"
     ]
    }
   ],
   "source": [
    "# Import necessary libraries\n",
    "import os\n",
    "from google.adk.agents import Agent\n",
    "from google.adk.models.lite_llm import LiteLlm # For OpenAI support\n",
    "from google.adk.tools import ToolContext\n",
    "\n",
    "# Convenience libraries for working with Neo4j inside of Google ADK\n",
    "from neo4j_for_adk import graphdb, tool_success, tool_error\n",
    "\n",
    "import warnings\n",
    "# Ignore all warnings\n",
    "warnings.filterwarnings(\"ignore\")\n",
    "\n",
    "import logging\n",
    "logging.basicConfig(level=logging.CRITICAL)\n",
    "\n",
    "print(\"Libraries imported.\")"
   ]
  },
  {
   "cell_type": "code",
   "execution_count": 2,
   "id": "3ef907f2",
   "metadata": {},
   "outputs": [
    {
     "name": "stdout",
     "output_type": "stream",
     "text": [
      "ModelResponse(id='chatcmpl-CStbZCLqiZfR9X0eCmvJSzw8Gvq37', created=1761002965, model='gpt-4o-2024-08-06', object='chat.completion', system_fingerprint='fp_eb3c3cb84d', choices=[Choices(finish_reason='stop', index=0, message=Message(content=\"Yes, I'm ready! How can I assist you today?\", role='assistant', tool_calls=None, function_call=None, provider_specific_fields={'refusal': None}, annotations=[]), provider_specific_fields={})], usage=Usage(completion_tokens=13, prompt_tokens=27, total_tokens=40, completion_tokens_details=CompletionTokensDetailsWrapper(accepted_prediction_tokens=0, audio_tokens=0, reasoning_tokens=0, rejected_prediction_tokens=0, text_tokens=None), prompt_tokens_details=PromptTokensDetailsWrapper(audio_tokens=0, cached_tokens=0, text_tokens=None, image_tokens=None)), service_tier='default')\n",
      "\n",
      "OpenAI is ready!\n"
     ]
    }
   ],
   "source": [
    "# --- Define Model Constants for easier use ---\n",
    "MODEL_GPT_4O = \"openai/gpt-4o\"\n",
    "\n",
    "llm = LiteLlm(model=MODEL_GPT_4O)\n",
    "\n",
    "# Test LLM with a direct call\n",
    "print(llm.llm_client.completion(model=llm.model, messages=[{\"role\": \"user\", \"content\": \"Are you ready?\"}], tools=[]))\n",
    "\n",
    "print(\"\\nOpenAI is ready!\")"
   ]
  },
  {
   "cell_type": "code",
   "execution_count": 3,
   "id": "d9ed749c",
   "metadata": {},
   "outputs": [],
   "source": [
    "\n",
    "# define the role and goal for the user intent agent\n",
    "agent_role_and_goal = \"\"\"\n",
    "    You are an expert at knowledge graph use cases. \n",
    "    Your primary goal is to help the user come up with a knowledge graph use case.\n",
    "\"\"\""
   ]
  },
  {
   "cell_type": "code",
   "execution_count": 4,
   "id": "3acda75a",
   "metadata": {},
   "outputs": [],
   "source": [
    "# give the agent some hints about what to say\n",
    "agent_conversational_hints = \"\"\"\n",
    "    If the user is unsure what to do, make some suggestions based on classic use cases like:\n",
    "    - social network involving friends, family, or professional relationships\n",
    "    - logistics network with suppliers, customers, and partners\n",
    "    - recommendation system with customers, products, and purchase patterns\n",
    "    - fraud detection over multiple accounts with suspicious patterns of transactions\n",
    "    - pop-culture graphs with movies, books, or music\n",
    "\"\"\""
   ]
  },
  {
   "cell_type": "code",
   "execution_count": 5,
   "id": "7d9ee964",
   "metadata": {},
   "outputs": [],
   "source": [
    "# describe what the output should look like\n",
    "agent_output_definition = \"\"\"\n",
    "    A user goal has two components:\n",
    "    - kind_of_graph: at most 3 words describing the graph, for example \"social network\" or \"USA freight logistics\"\n",
    "    - description: a few sentences about the intention of the graph, for example \"A dynamic routing and delivery system for cargo.\" or \"Analysis of product dependencies and supplier alternatives.\"\n",
    "\"\"\""
   ]
  },
  {
   "cell_type": "code",
   "execution_count": 6,
   "id": "f8a3c724",
   "metadata": {},
   "outputs": [],
   "source": [
    "# specify the steps the agent should follow\n",
    "agent_chain_of_thought_directions = \"\"\"\n",
    "    Think carefully and collaborate with the user:\n",
    "    1. Understand the user's goal, which is a kind_of_graph with description\n",
    "    2. Ask clarifying questions as needed\n",
    "    3. When you think you understand their goal, use the 'set_perceived_user_goal' tool to record your perception\n",
    "    4. Present the perceived user goal to the user for confirmation\n",
    "    5. If the user agrees, use the 'approve_perceived_user_goal' tool to approve the user goal. This will save the goal in state under the 'approved_user_goal' key.\n",
    "\"\"\"\n"
   ]
  },
  {
   "cell_type": "code",
   "execution_count": 7,
   "id": "bab7cbcb",
   "metadata": {},
   "outputs": [
    {
     "name": "stdout",
     "output_type": "stream",
     "text": [
      "\n",
      "\n",
      "    You are an expert at knowledge graph use cases. \n",
      "    Your primary goal is to help the user come up with a knowledge graph use case.\n",
      "\n",
      "\n",
      "    If the user is unsure what to do, make some suggestions based on classic use cases like:\n",
      "    - social network involving friends, family, or professional relationships\n",
      "    - logistics network with suppliers, customers, and partners\n",
      "    - recommendation system with customers, products, and purchase patterns\n",
      "    - fraud detection over multiple accounts with suspicious patterns of transactions\n",
      "    - pop-culture graphs with movies, books, or music\n",
      "\n",
      "\n",
      "    A user goal has two components:\n",
      "    - kind_of_graph: at most 3 words describing the graph, for example \"social network\" or \"USA freight logistics\"\n",
      "    - description: a few sentences about the intention of the graph, for example \"A dynamic routing and delivery system for cargo.\" or \"Analysis of product dependencies and supplier alternatives.\"\n",
      "\n",
      "\n",
      "    Think carefully and collaborate with the user:\n",
      "    1. Understand the user's goal, which is a kind_of_graph with description\n",
      "    2. Ask clarifying questions as needed\n",
      "    3. When you think you understand their goal, use the 'set_perceived_user_goal' tool to record your perception\n",
      "    4. Present the perceived user goal to the user for confirmation\n",
      "    5. If the user agrees, use the 'approve_perceived_user_goal' tool to approve the user goal. This will save the goal in state under the 'approved_user_goal' key.\n",
      "\n",
      "\n"
     ]
    }
   ],
   "source": [
    "# combine all the instruction components into one complete instruction...\n",
    "complete_agent_instruction = f\"\"\"\n",
    "{agent_role_and_goal}\n",
    "{agent_conversational_hints}\n",
    "{agent_output_definition}\n",
    "{agent_chain_of_thought_directions}\n",
    "\"\"\"\n",
    "\n",
    "print(complete_agent_instruction)\n"
   ]
  },
  {
   "cell_type": "code",
   "execution_count": 8,
   "id": "ef5d1e42",
   "metadata": {},
   "outputs": [],
   "source": [
    "# Tool: Set Perceived User Goal\n",
    "# to encourage collaboration with the user, the first tool only sets the perceived user goal\n",
    "\n",
    "PERCEIVED_USER_GOAL = \"perceived_user_goal\"\n",
    "\n",
    "def set_perceived_user_goal(kind_of_graph: str, graph_description:str, tool_context: ToolContext):\n",
    "    \"\"\"Sets the perceived user's goal, including the kind of graph and its description.\n",
    "    \n",
    "    Args:\n",
    "        kind_of_graph: 2-3 word definition of the kind of graph, for example \"recent US patents\"\n",
    "        graph_description: a single paragraph description of the graph, summarizing the user's intent\n",
    "    \"\"\"\n",
    "    user_goal_data = {\"kind_of_graph\": kind_of_graph, \"graph_description\": graph_description}\n",
    "    tool_context.state[PERCEIVED_USER_GOAL] = user_goal_data\n",
    "    return tool_success(PERCEIVED_USER_GOAL, user_goal_data)"
   ]
  },
  {
   "cell_type": "code",
   "execution_count": null,
   "id": "cf5144d0",
   "metadata": {},
   "outputs": [],
   "source": []
  },
  {
   "cell_type": "code",
   "execution_count": 9,
   "id": "16d88a95",
   "metadata": {},
   "outputs": [],
   "source": [
    "# Tool: Approve the perceived user goal\n",
    "# approval from the user should trigger a call to this tool\n",
    "\n",
    "APPROVED_USER_GOAL = \"approved_user_goal\"\n",
    "\n",
    "def approve_perceived_user_goal(tool_context: ToolContext):\n",
    "    \"\"\"Upon approval from user, will record the perceived user goal as the approved user goal.\n",
    "    \n",
    "    Only call this tool if the user has explicitly approved the perceived user goal.\n",
    "    \"\"\"\n",
    "    # Trust, but verify. \n",
    "    # Require that the perceived goal was set before approving it. \n",
    "    # Notice the tool error helps the agent take\n",
    "    if PERCEIVED_USER_GOAL not in tool_context.state:\n",
    "        return tool_error(\"perceived_user_goal not set. Set perceived user goal first, or ask clarifying questions if you are unsure.\")\n",
    "    \n",
    "    tool_context.state[APPROVED_USER_GOAL] = tool_context.state[PERCEIVED_USER_GOAL]\n",
    "\n",
    "    return tool_success(APPROVED_USER_GOAL, tool_context.state[APPROVED_USER_GOAL])"
   ]
  },
  {
   "cell_type": "code",
   "execution_count": 10,
   "id": "76755a2c",
   "metadata": {},
   "outputs": [],
   "source": [
    "# add the tools to a list\n",
    "user_intent_agent_tools = [set_perceived_user_goal, approve_perceived_user_goal]"
   ]
  },
  {
   "cell_type": "code",
   "execution_count": 11,
   "id": "15502a38",
   "metadata": {},
   "outputs": [
    {
     "name": "stdout",
     "output_type": "stream",
     "text": [
      "Agent 'user_intent_agent_v1' created.\n"
     ]
    }
   ],
   "source": [
    "# Finally, construct the agent\n",
    "\n",
    "user_intent_agent = Agent(\n",
    "    name=\"user_intent_agent_v1\", # a unique, versioned name\n",
    "    model=llm, # defined earlier in a variable\n",
    "    description=\"Helps the user ideate on a knowledge graph use case.\", # used for delegation\n",
    "    instruction=complete_agent_instruction, # the complete instructions you composed earlier\n",
    "    tools=user_intent_agent_tools, # the list of tools\n",
    ")\n",
    "\n",
    "print(f\"Agent '{user_intent_agent.name}' created.\")"
   ]
  },
  {
   "cell_type": "code",
   "execution_count": 12,
   "id": "67885bcd",
   "metadata": {},
   "outputs": [],
   "source": [
    "# use a helper to create an agent execution environment\n",
    "from helper import make_agent_caller\n",
    "\n",
    "# NOTE: if re-running the session, come back here to re-initialize the agent\n",
    "user_intent_caller = await make_agent_caller(user_intent_agent)"
   ]
  },
  {
   "cell_type": "code",
   "execution_count": 13,
   "id": "fcd8059d",
   "metadata": {},
   "outputs": [
    {
     "name": "stdout",
     "output_type": "stream",
     "text": [
      "Session Start: {}\n",
      "\n",
      ">>> User Query: I'd like a bill of materials graph (BOM graph) which includes all levels from suppliers to finished product, \n",
      "    which can support root-cause analysis.\n",
      "<<< Agent Response: A Bill of Materials (BOM) graph is a great use case for a knowledge graph, especially when considering root-cause analysis. Let's make sure I understand the details correctly.\n",
      "\n",
      "1. **Scope**: You want to include all levels, from raw material suppliers to the finished product in a BOM.\n",
      "2. **Purpose**: To enable root-cause analysis, identifying how issues at any level of the supply chain can impact the finished products.\n",
      "\n",
      "Here are a couple of clarifying questions to ensure we capture your idea accurately:\n",
      "- Are you looking to focus on a specific industry (e.g., automotive, electronics) or is the BOM graph intended to be industry-agnostic?\n",
      "- Do you anticipate integrating real-time data for dynamic analysis, or is this more for historical analysis and reporting?\n",
      "  \n",
      "These details can help refine the scope and impact of the graph. Please let me know your thoughts!\n",
      "\n",
      ">>> User Query: I'm concerned about possible manufacturing or supplier issues.\n",
      "<<< Agent Response: Great, understanding the focus on potential manufacturing or supplier issues helps in defining the use case more precisely.\n",
      "\n",
      "Here's a refined description:\n",
      "\n",
      "- **Industry Focus**: It seems like you're leaning towards manufacturing, though not necessarily limited to any specific sector.\n",
      "\n",
      "- **Purpose**: The BOM graph aims to trace the source of problems—whether related to manufacturing errors, supplier delays, or material defects—that could impact the production line and the quality of the finished product.\n",
      "\n",
      "- **Real-time Integration**: Considering the focus on potential issues, incorporating real-time data would be beneficial to quickly identify and mitigate disruptions.\n",
      "\n",
      "I'll summarize the perceived goal as follows:\n",
      "\n",
      "- **Kind of Graph**: BOM root-cause analysis\n",
      "- **Description**: A detailed bill of materials (BOM) graph encompassing all levels from suppliers to the finished product, designed to support root-cause analysis specific to identifying and mitigating manufacturing and supplier issues.\n",
      "\n",
      "Is this a good representation of what you have in mind?\n",
      "\n",
      ">>> User Query: Approve that goal.\n",
      "  [Event] Author: user_intent_agent_v1, Type: Event, Final: False, Content: parts=[Part(\n",
      "  function_call=FunctionCall(\n",
      "    args={\n",
      "      'graph_description': 'A detailed bill of materials (BOM) graph encompassing all levels from suppliers to the finished product, designed to support root-cause analysis specific to identifying and mitigating manufacturing and supplier issues.',\n",
      "      'kind_of_graph': 'BOM root-cause analysis'\n",
      "    },\n",
      "    id='call_KYFY1UjHHYe8RRXjpCkBRdYq',\n",
      "    name='set_perceived_user_goal'\n",
      "  )\n",
      "), Part(\n",
      "  function_call=FunctionCall(\n",
      "    args={},\n",
      "    id='call_YkwnfvjO2JylLehztkHAlfIv',\n",
      "    name='approve_perceived_user_goal'\n",
      "  )\n",
      ")] role='model'\n",
      "  [Event] Author: user_intent_agent_v1, Type: Event, Final: False, Content: parts=[Part(\n",
      "  function_response=FunctionResponse(\n",
      "    id='call_KYFY1UjHHYe8RRXjpCkBRdYq',\n",
      "    name='set_perceived_user_goal',\n",
      "    response={\n",
      "      'perceived_user_goal': {\n",
      "        'graph_description': 'A detailed bill of materials (BOM) graph encompassing all levels from suppliers to the finished product, designed to support root-cause analysis specific to identifying and mitigating manufacturing and supplier issues.',\n",
      "        'kind_of_graph': 'BOM root-cause analysis'\n",
      "      },\n",
      "      'status': 'success'\n",
      "    }\n",
      "  )\n",
      "), Part(\n",
      "  function_response=FunctionResponse(\n",
      "    id='call_YkwnfvjO2JylLehztkHAlfIv',\n",
      "    name='approve_perceived_user_goal',\n",
      "    response={\n",
      "      'approved_user_goal': {\n",
      "        'graph_description': 'A detailed bill of materials (BOM) graph encompassing all levels from suppliers to the finished product, designed to support root-cause analysis specific to identifying and mitigating manufacturing and supplier issues.',\n",
      "        'kind_of_graph': 'BOM root-cause analysis'\n",
      "      },\n",
      "      'status': 'success'\n",
      "    }\n",
      "  )\n",
      ")] role='user'\n",
      "  [Event] Author: user_intent_agent_v1, Type: Event, Final: True, Content: parts=[Part(\n",
      "  text=\"\"\"The user goal for the BOM root-cause analysis graph has been successfully set and approved. Here's a quick summary:\n",
      "\n",
      "- **Kind of Graph**: BOM root-cause analysis\n",
      "- **Description**: A detailed bill of materials (BOM) graph encompassing all levels from suppliers to the finished product, designed to support root-cause analysis specific to identifying and mitigating manufacturing and supplier issues.\n",
      "\n",
      "Feel free to reach out if you have further questions or need assistance on how to proceed with building or utilizing this graph!\"\"\"\n",
      ")] role='model'\n",
      "<<< Agent Response: The user goal for the BOM root-cause analysis graph has been successfully set and approved. Here's a quick summary:\n",
      "\n",
      "- **Kind of Graph**: BOM root-cause analysis\n",
      "- **Description**: A detailed bill of materials (BOM) graph encompassing all levels from suppliers to the finished product, designed to support root-cause analysis specific to identifying and mitigating manufacturing and supplier issues.\n",
      "\n",
      "Feel free to reach out if you have further questions or need assistance on how to proceed with building or utilizing this graph!\n"
     ]
    }
   ],
   "source": [
    "session_start = await user_intent_caller.get_session()\n",
    "print(f\"Session Start: {session_start.state}\") # expect this to be empty\n",
    "\n",
    "# We need an async function to await for each conversation\n",
    "async def run_conversation():\n",
    "    # start things off by describing your goal\n",
    "    await user_intent_caller.call(\"\"\"I'd like a bill of materials graph (BOM graph) which includes all levels from suppliers to finished product, \n",
    "    which can support root-cause analysis.\"\"\") \n",
    "\n",
    "    if PERCEIVED_USER_GOAL not in session_start.state:\n",
    "        # the LLM may have asked a clarifying question. offer some more details\n",
    "        await user_intent_caller.call(\"\"\"I'm concerned about possible manufacturing or supplier issues.\"\"\")        \n",
    "\n",
    "    # Optimistically presume approval.\n",
    "    await user_intent_caller.call(\"Approve that goal.\", True)\n",
    "\n",
    "await run_conversation()\n",
    "\n",
    "session_end = await user_intent_caller.get_session()"
   ]
  },
  {
   "cell_type": "code",
   "execution_count": null,
   "id": "0044cc11",
   "metadata": {},
   "outputs": [],
   "source": []
  }
 ],
 "metadata": {
  "kernelspec": {
   "display_name": "Python (studies)",
   "language": "python",
   "name": "studies"
  },
  "language_info": {
   "codemirror_mode": {
    "name": "ipython",
    "version": 3
   },
   "file_extension": ".py",
   "mimetype": "text/x-python",
   "name": "python",
   "nbconvert_exporter": "python",
   "pygments_lexer": "ipython3",
   "version": "3.12.9"
  }
 },
 "nbformat": 4,
 "nbformat_minor": 5
}
